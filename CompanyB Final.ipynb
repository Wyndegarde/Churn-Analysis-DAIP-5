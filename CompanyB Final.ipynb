{
 "cells": [
  {
   "cell_type": "code",
   "execution_count": 2,
   "metadata": {},
   "outputs": [],
   "source": [
    "import pandas as pd\n",
    "import numpy as np\n",
    "from IPython.core.interactiveshell import InteractiveShell\n",
    "InteractiveShell.ast_node_interactivity = \"all\"\n",
    "from sklearn.preprocessing import MinMaxScaler\n",
    "from sklearn import preprocessing\n",
    "import tensorflow as tf\n",
    "from tensorflow import keras \n",
    "from sklearn.model_selection import train_test_split\n",
    "import matplotlib.pyplot as plt\n",
    "import seaborn as sns\n",
    "from sklearn.metrics import confusion_matrix\n",
    "import sklearn \n",
    "from tensorflow.keras.callbacks import EarlyStopping\n",
    "from scipy.stats import reciprocal\n",
    "from sklearn.model_selection import RandomizedSearchCV, KFold\n",
    "import random\n",
    "from tensorflow.keras.wrappers.scikit_learn import KerasClassifier\n",
    "from sklearn.metrics import accuracy_score\n",
    "from sklearn.metrics import recall_score\n",
    "from sklearn.metrics import precision_score\n"
   ]
  },
  {
   "cell_type": "code",
   "execution_count": 3,
   "metadata": {},
   "outputs": [],
   "source": [
    "companyB = pd.read_csv('CompanyBData.csv')"
   ]
  },
  {
   "cell_type": "markdown",
   "metadata": {},
   "source": [
    "As shown below we have no rows with missing values"
   ]
  },
  {
   "cell_type": "code",
   "execution_count": 4,
   "metadata": {},
   "outputs": [
    {
     "data": {
      "text/plain": [
       "State                     0\n",
       "Account length            0\n",
       "Area code                 0\n",
       "International plan        0\n",
       "Voice mail plan           0\n",
       "Number vmail messages     0\n",
       "Total day minutes         0\n",
       "Total day calls           0\n",
       "Total day charge          0\n",
       "Total eve minutes         0\n",
       "Total eve calls           0\n",
       "Total eve charge          0\n",
       "Total night minutes       0\n",
       "Total night calls         0\n",
       "Total night charge        0\n",
       "Total intl minutes        0\n",
       "Total intl calls          0\n",
       "Total intl charge         0\n",
       "Customer service calls    0\n",
       "Churn                     0\n",
       "dtype: int64"
      ]
     },
     "execution_count": 4,
     "metadata": {},
     "output_type": "execute_result"
    }
   ],
   "source": [
    "companyB.isnull().sum()"
   ]
  },
  {
   "cell_type": "markdown",
   "metadata": {},
   "source": [
    "#### Count how many unique values are in state and area code columns"
   ]
  },
  {
   "cell_type": "code",
   "execution_count": 5,
   "metadata": {},
   "outputs": [
    {
     "data": {
      "text/plain": [
       "State                       51\n",
       "Account length             212\n",
       "Area code                    3\n",
       "International plan           2\n",
       "Voice mail plan              2\n",
       "Number vmail messages       46\n",
       "Total day minutes         1667\n",
       "Total day calls            119\n",
       "Total day charge          1667\n",
       "Total eve minutes         1611\n",
       "Total eve calls            123\n",
       "Total eve charge          1440\n",
       "Total night minutes       1591\n",
       "Total night calls          120\n",
       "Total night charge         933\n",
       "Total intl minutes         162\n",
       "Total intl calls            21\n",
       "Total intl charge          162\n",
       "Customer service calls      10\n",
       "Churn                        2\n",
       "dtype: int64"
      ]
     },
     "execution_count": 5,
     "metadata": {},
     "output_type": "execute_result"
    }
   ],
   "source": [
    "companyB.nunique()"
   ]
  },
  {
   "cell_type": "markdown",
   "metadata": {},
   "source": [
    "# Reasons for customers leaving"
   ]
  },
  {
   "cell_type": "markdown",
   "metadata": {},
   "source": [
    "### Categorical variables\n",
    "\n",
    "There are a total of 3333 customers and 483 are churn giving a 14.49% churn rate\n",
    "\n",
    "Does churn vary by state, area code"
   ]
  },
  {
   "cell_type": "code",
   "execution_count": 6,
   "metadata": {},
   "outputs": [
    {
     "data": {
      "text/html": [
       "<div>\n",
       "<style scoped>\n",
       "    .dataframe tbody tr th:only-of-type {\n",
       "        vertical-align: middle;\n",
       "    }\n",
       "\n",
       "    .dataframe tbody tr th {\n",
       "        vertical-align: top;\n",
       "    }\n",
       "\n",
       "    .dataframe thead th {\n",
       "        text-align: right;\n",
       "    }\n",
       "</style>\n",
       "<table border=\"1\" class=\"dataframe\">\n",
       "  <thead>\n",
       "    <tr style=\"text-align: right;\">\n",
       "      <th></th>\n",
       "      <th>State</th>\n",
       "      <th>Account length</th>\n",
       "      <th>Area code</th>\n",
       "      <th>International plan</th>\n",
       "      <th>Voice mail plan</th>\n",
       "      <th>Number vmail messages</th>\n",
       "      <th>Total day minutes</th>\n",
       "      <th>Total day calls</th>\n",
       "      <th>Total day charge</th>\n",
       "      <th>Total eve minutes</th>\n",
       "      <th>Total eve calls</th>\n",
       "      <th>Total eve charge</th>\n",
       "      <th>Total night minutes</th>\n",
       "      <th>Total night calls</th>\n",
       "      <th>Total night charge</th>\n",
       "      <th>Total intl minutes</th>\n",
       "      <th>Total intl calls</th>\n",
       "      <th>Total intl charge</th>\n",
       "      <th>Customer service calls</th>\n",
       "    </tr>\n",
       "    <tr>\n",
       "      <th>Churn</th>\n",
       "      <th></th>\n",
       "      <th></th>\n",
       "      <th></th>\n",
       "      <th></th>\n",
       "      <th></th>\n",
       "      <th></th>\n",
       "      <th></th>\n",
       "      <th></th>\n",
       "      <th></th>\n",
       "      <th></th>\n",
       "      <th></th>\n",
       "      <th></th>\n",
       "      <th></th>\n",
       "      <th></th>\n",
       "      <th></th>\n",
       "      <th></th>\n",
       "      <th></th>\n",
       "      <th></th>\n",
       "      <th></th>\n",
       "    </tr>\n",
       "  </thead>\n",
       "  <tbody>\n",
       "    <tr>\n",
       "      <th>False</th>\n",
       "      <td>2850</td>\n",
       "      <td>2850</td>\n",
       "      <td>2850</td>\n",
       "      <td>2850</td>\n",
       "      <td>2850</td>\n",
       "      <td>2850</td>\n",
       "      <td>2850</td>\n",
       "      <td>2850</td>\n",
       "      <td>2850</td>\n",
       "      <td>2850</td>\n",
       "      <td>2850</td>\n",
       "      <td>2850</td>\n",
       "      <td>2850</td>\n",
       "      <td>2850</td>\n",
       "      <td>2850</td>\n",
       "      <td>2850</td>\n",
       "      <td>2850</td>\n",
       "      <td>2850</td>\n",
       "      <td>2850</td>\n",
       "    </tr>\n",
       "    <tr>\n",
       "      <th>True</th>\n",
       "      <td>483</td>\n",
       "      <td>483</td>\n",
       "      <td>483</td>\n",
       "      <td>483</td>\n",
       "      <td>483</td>\n",
       "      <td>483</td>\n",
       "      <td>483</td>\n",
       "      <td>483</td>\n",
       "      <td>483</td>\n",
       "      <td>483</td>\n",
       "      <td>483</td>\n",
       "      <td>483</td>\n",
       "      <td>483</td>\n",
       "      <td>483</td>\n",
       "      <td>483</td>\n",
       "      <td>483</td>\n",
       "      <td>483</td>\n",
       "      <td>483</td>\n",
       "      <td>483</td>\n",
       "    </tr>\n",
       "  </tbody>\n",
       "</table>\n",
       "</div>"
      ],
      "text/plain": [
       "       State  Account length  Area code  International plan  Voice mail plan  \\\n",
       "Churn                                                                          \n",
       "False   2850            2850       2850                2850             2850   \n",
       "True     483             483        483                 483              483   \n",
       "\n",
       "       Number vmail messages  Total day minutes  Total day calls  \\\n",
       "Churn                                                              \n",
       "False                   2850               2850             2850   \n",
       "True                     483                483              483   \n",
       "\n",
       "       Total day charge  Total eve minutes  Total eve calls  Total eve charge  \\\n",
       "Churn                                                                           \n",
       "False              2850               2850             2850              2850   \n",
       "True                483                483              483               483   \n",
       "\n",
       "       Total night minutes  Total night calls  Total night charge  \\\n",
       "Churn                                                               \n",
       "False                 2850               2850                2850   \n",
       "True                   483                483                 483   \n",
       "\n",
       "       Total intl minutes  Total intl calls  Total intl charge  \\\n",
       "Churn                                                            \n",
       "False                2850              2850               2850   \n",
       "True                  483               483                483   \n",
       "\n",
       "       Customer service calls  \n",
       "Churn                          \n",
       "False                    2850  \n",
       "True                      483  "
      ]
     },
     "execution_count": 6,
     "metadata": {},
     "output_type": "execute_result"
    }
   ],
   "source": [
    "companyB.groupby(['Churn']).count()"
   ]
  },
  {
   "cell_type": "markdown",
   "metadata": {},
   "source": [
    "#### States churn rates"
   ]
  },
  {
   "cell_type": "code",
   "execution_count": 7,
   "metadata": {},
   "outputs": [
    {
     "data": {
      "text/plain": [
       "<matplotlib.lines.Line2D at 0x24d44bfc7c0>"
      ]
     },
     "execution_count": 7,
     "metadata": {},
     "output_type": "execute_result"
    },
    {
     "data": {
      "image/png": "[encoded data removed]",
      "text/plain": [
       "<Figure size 1152x864 with 1 Axes>"
      ]
     },
     "metadata": {
      "needs_background": "light"
     },
     "output_type": "display_data"
    }
   ],
   "source": [
    "states_churn = companyB.groupby(['State'])['Churn'].mean().copy()\n",
    "states_churn_plot = states_churn.plot.bar(figsize=(16, 12))\n",
    "states_churn_plot.axhline(y=0.1449, color='red')\n"
   ]
  },
  {
   "cell_type": "markdown",
   "metadata": {},
   "source": [
    "It looks like state is an important variable when determining churn, would be worth adding to model. Perhaps could replace state column values with the churn rate of each state in order to keep it to one column ?"
   ]
  },
  {
   "cell_type": "markdown",
   "metadata": {},
   "source": [
    "#### Area code churn rates"
   ]
  },
  {
   "cell_type": "code",
   "execution_count": 8,
   "metadata": {},
   "outputs": [
    {
     "data": {
      "text/plain": [
       "Area code\n",
       "408    0.145585\n",
       "415    0.142598\n",
       "510    0.148810\n",
       "Name: Churn, dtype: float64"
      ]
     },
     "execution_count": 8,
     "metadata": {},
     "output_type": "execute_result"
    }
   ],
   "source": [
    "companyB.groupby(['Area code'])['Churn'].mean()"
   ]
  },
  {
   "cell_type": "markdown",
   "metadata": {},
   "source": [
    "Churn rate does not appear to vary by area code and so we can reasonably conclude this variable is not important and will be dropped"
   ]
  },
  {
   "cell_type": "markdown",
   "metadata": {},
   "source": [
    "### Boolean variables\n",
    "\n",
    "Does churn rate vary depending on whether customer has international plan or voice mail plan?"
   ]
  },
  {
   "cell_type": "markdown",
   "metadata": {},
   "source": [
    "#### International plan"
   ]
  },
  {
   "cell_type": "code",
   "execution_count": 9,
   "metadata": {},
   "outputs": [
    {
     "data": {
      "text/plain": [
       "Text(0, 0.5, 'Churn rate')"
      ]
     },
     "execution_count": 9,
     "metadata": {},
     "output_type": "execute_result"
    },
    {
     "data": {
      "text/plain": [
       "<matplotlib.lines.Line2D at 0x24d4416aa00>"
      ]
     },
     "execution_count": 9,
     "metadata": {},
     "output_type": "execute_result"
    },
    {
     "data": {
      "image/png": "[encoded data removed]",
      "text/plain": [
       "<Figure size 576x432 with 1 Axes>"
      ]
     },
     "metadata": {
      "needs_background": "light"
     },
     "output_type": "display_data"
    }
   ],
   "source": [
    "bools_churn = companyB[['International plan', 'Voice mail plan', 'Churn']]\n",
    "\n",
    "int_plan_plot = bools_churn.groupby(['International plan'])['Churn'].mean().plot.bar(y='Churn rate',figsize=(8, 6))\n",
    "int_plan_plot.set_ylabel('Churn rate')\n",
    "int_plan_plot.axhline(y=0.1449, color='red')"
   ]
  },
  {
   "cell_type": "markdown",
   "metadata": {},
   "source": [
    "#### Voice mail plan"
   ]
  },
  {
   "cell_type": "code",
   "execution_count": 10,
   "metadata": {},
   "outputs": [
    {
     "data": {
      "text/plain": [
       "Text(0, 0.5, 'Churn rate')"
      ]
     },
     "execution_count": 10,
     "metadata": {},
     "output_type": "execute_result"
    },
    {
     "data": {
      "text/plain": [
       "<matplotlib.lines.Line2D at 0x24d46008790>"
      ]
     },
     "execution_count": 10,
     "metadata": {},
     "output_type": "execute_result"
    },
    {
     "data": {
      "image/png": "[encoded data removed]",
      "text/plain": [
       "<Figure size 576x432 with 1 Axes>"
      ]
     },
     "metadata": {
      "needs_background": "light"
     },
     "output_type": "display_data"
    }
   ],
   "source": [
    "voice_plan_plot = bools_churn.groupby(['Voice mail plan'])['Churn'].mean().plot.bar(y='Churn rate',figsize=(8, 6))\n",
    "voice_plan_plot.set_ylabel('Churn rate')\n",
    "voice_plan_plot.axhline(y=0.1449, color='red')"
   ]
  },
  {
   "cell_type": "markdown",
   "metadata": {},
   "source": [
    "### Numeric values\n",
    "\n",
    "Comparing numeric values to churn rate "
   ]
  },
  {
   "cell_type": "code",
   "execution_count": 11,
   "metadata": {},
   "outputs": [],
   "source": [
    "companyB_numeric = companyB.copy()\n",
    "companyB_numeric = companyB_numeric.drop(['State', 'Area code', 'International plan','Voice mail plan'],axis=1)"
   ]
  },
  {
   "cell_type": "code",
   "execution_count": 12,
   "metadata": {},
   "outputs": [
    {
     "data": {
      "text/html": [
       "<div>\n",
       "<style scoped>\n",
       "    .dataframe tbody tr th:only-of-type {\n",
       "        vertical-align: middle;\n",
       "    }\n",
       "\n",
       "    .dataframe tbody tr th {\n",
       "        vertical-align: top;\n",
       "    }\n",
       "\n",
       "    .dataframe thead th {\n",
       "        text-align: right;\n",
       "    }\n",
       "</style>\n",
       "<table border=\"1\" class=\"dataframe\">\n",
       "  <thead>\n",
       "    <tr style=\"text-align: right;\">\n",
       "      <th></th>\n",
       "      <th>Account length</th>\n",
       "      <th>Number vmail messages</th>\n",
       "      <th>Total day minutes</th>\n",
       "      <th>Total day calls</th>\n",
       "      <th>Total day charge</th>\n",
       "      <th>Total eve minutes</th>\n",
       "      <th>Total eve calls</th>\n",
       "      <th>Total eve charge</th>\n",
       "      <th>Total night minutes</th>\n",
       "      <th>Total night calls</th>\n",
       "      <th>Total night charge</th>\n",
       "      <th>Total intl minutes</th>\n",
       "      <th>Total intl calls</th>\n",
       "      <th>Total intl charge</th>\n",
       "      <th>Customer service calls</th>\n",
       "    </tr>\n",
       "    <tr>\n",
       "      <th>Churn</th>\n",
       "      <th></th>\n",
       "      <th></th>\n",
       "      <th></th>\n",
       "      <th></th>\n",
       "      <th></th>\n",
       "      <th></th>\n",
       "      <th></th>\n",
       "      <th></th>\n",
       "      <th></th>\n",
       "      <th></th>\n",
       "      <th></th>\n",
       "      <th></th>\n",
       "      <th></th>\n",
       "      <th></th>\n",
       "      <th></th>\n",
       "    </tr>\n",
       "  </thead>\n",
       "  <tbody>\n",
       "    <tr>\n",
       "      <th>False</th>\n",
       "      <td>100.793684</td>\n",
       "      <td>8.604561</td>\n",
       "      <td>175.175754</td>\n",
       "      <td>100.283158</td>\n",
       "      <td>29.780421</td>\n",
       "      <td>199.043298</td>\n",
       "      <td>100.038596</td>\n",
       "      <td>16.918909</td>\n",
       "      <td>200.133193</td>\n",
       "      <td>100.058246</td>\n",
       "      <td>9.006074</td>\n",
       "      <td>10.158877</td>\n",
       "      <td>4.532982</td>\n",
       "      <td>2.743404</td>\n",
       "      <td>1.449825</td>\n",
       "    </tr>\n",
       "    <tr>\n",
       "      <th>True</th>\n",
       "      <td>102.664596</td>\n",
       "      <td>5.115942</td>\n",
       "      <td>206.914079</td>\n",
       "      <td>101.335404</td>\n",
       "      <td>35.175921</td>\n",
       "      <td>212.410145</td>\n",
       "      <td>100.561077</td>\n",
       "      <td>18.054969</td>\n",
       "      <td>205.231677</td>\n",
       "      <td>100.399586</td>\n",
       "      <td>9.235528</td>\n",
       "      <td>10.700000</td>\n",
       "      <td>4.163561</td>\n",
       "      <td>2.889545</td>\n",
       "      <td>2.229814</td>\n",
       "    </tr>\n",
       "  </tbody>\n",
       "</table>\n",
       "</div>"
      ],
      "text/plain": [
       "       Account length  Number vmail messages  Total day minutes  \\\n",
       "Churn                                                             \n",
       "False      100.793684               8.604561         175.175754   \n",
       "True       102.664596               5.115942         206.914079   \n",
       "\n",
       "       Total day calls  Total day charge  Total eve minutes  Total eve calls  \\\n",
       "Churn                                                                          \n",
       "False       100.283158         29.780421         199.043298       100.038596   \n",
       "True        101.335404         35.175921         212.410145       100.561077   \n",
       "\n",
       "       Total eve charge  Total night minutes  Total night calls  \\\n",
       "Churn                                                             \n",
       "False         16.918909           200.133193         100.058246   \n",
       "True          18.054969           205.231677         100.399586   \n",
       "\n",
       "       Total night charge  Total intl minutes  Total intl calls  \\\n",
       "Churn                                                             \n",
       "False            9.006074           10.158877          4.532982   \n",
       "True             9.235528           10.700000          4.163561   \n",
       "\n",
       "       Total intl charge  Customer service calls  \n",
       "Churn                                             \n",
       "False           2.743404                1.449825  \n",
       "True            2.889545                2.229814  "
      ]
     },
     "execution_count": 12,
     "metadata": {},
     "output_type": "execute_result"
    }
   ],
   "source": [
    "companyB_numeric.groupby('Churn').mean()"
   ]
  },
  {
   "cell_type": "markdown",
   "metadata": {},
   "source": [
    "### Exploratory Analysis Stats"
   ]
  },
  {
   "cell_type": "code",
   "execution_count": 13,
   "metadata": {},
   "outputs": [
    {
     "data": {
      "text/plain": [
       "International plan\n",
       "No     0.114950\n",
       "Yes    0.424149\n",
       "Name: Churn, dtype: float64"
      ]
     },
     "execution_count": 13,
     "metadata": {},
     "output_type": "execute_result"
    },
    {
     "data": {
      "text/plain": [
       "State\n",
       "AK    0.057692\n",
       "AL    0.100000\n",
       "AR    0.200000\n",
       "AZ    0.062500\n",
       "CA    0.264706\n",
       "CO    0.136364\n",
       "CT    0.162162\n",
       "DC    0.092593\n",
       "DE    0.147541\n",
       "FL    0.126984\n",
       "GA    0.148148\n",
       "HI    0.056604\n",
       "IA    0.068182\n",
       "ID    0.123288\n",
       "IL    0.086207\n",
       "IN    0.126761\n",
       "KS    0.185714\n",
       "KY    0.135593\n",
       "LA    0.078431\n",
       "MA    0.169231\n",
       "MD    0.242857\n",
       "ME    0.209677\n",
       "MI    0.219178\n",
       "MN    0.178571\n",
       "MO    0.111111\n",
       "MS    0.215385\n",
       "MT    0.205882\n",
       "NC    0.161765\n",
       "ND    0.096774\n",
       "NE    0.081967\n",
       "NH    0.160714\n",
       "NJ    0.264706\n",
       "NM    0.096774\n",
       "NV    0.212121\n",
       "NY    0.180723\n",
       "OH    0.128205\n",
       "OK    0.147541\n",
       "OR    0.141026\n",
       "PA    0.177778\n",
       "RI    0.092308\n",
       "SC    0.233333\n",
       "SD    0.133333\n",
       "TN    0.094340\n",
       "TX    0.250000\n",
       "UT    0.138889\n",
       "VA    0.064935\n",
       "VT    0.109589\n",
       "WA    0.212121\n",
       "WI    0.089744\n",
       "WV    0.094340\n",
       "WY    0.116883\n",
       "Name: Churn, dtype: float64"
      ]
     },
     "execution_count": 13,
     "metadata": {},
     "output_type": "execute_result"
    }
   ],
   "source": [
    "#International plan y/n churn rates\n",
    "bools_churn.groupby(['International plan'])['Churn'].mean()\n",
    "#california and hawaii churn rates\n",
    "companyB.groupby(['State'])['Churn'].mean()"
   ]
  },
  {
   "cell_type": "markdown",
   "metadata": {},
   "source": [
    "# Data Cleaning"
   ]
  },
  {
   "cell_type": "code",
   "execution_count": 14,
   "metadata": {},
   "outputs": [],
   "source": [
    "yFull = companyB['Churn'].copy()\n",
    "xdirty = companyB.copy()\n",
    "del xdirty['Churn']\n",
    "del xdirty['Area code']\n",
    "del xdirty['International plan']\n",
    "del xdirty['Voice mail plan']"
   ]
  },
  {
   "cell_type": "markdown",
   "metadata": {},
   "source": [
    "#### Sort out binary columns (International plan and Voice mail plan)"
   ]
  },
  {
   "cell_type": "code",
   "execution_count": 15,
   "metadata": {},
   "outputs": [],
   "source": [
    "binary_cols = companyB[['International plan','Voice mail plan']].copy()\n",
    "binary_cols['International plan'] = binary_cols['International plan'].map({'No':0, 'Yes':1})\n",
    "binary_cols['Voice mail plan'] = binary_cols['Voice mail plan'].map({'No':0, 'Yes':1})"
   ]
  },
  {
   "cell_type": "markdown",
   "metadata": {},
   "source": [
    "#### Transforming state column to show churn rate for that state"
   ]
  },
  {
   "cell_type": "code",
   "execution_count": 16,
   "metadata": {},
   "outputs": [],
   "source": [
    "states_test = companyB[['State','Churn']]\n",
    "\n",
    "#Turn series into dictionary\n",
    "states_churn = companyB.groupby(['State'])['Churn'].mean().copy()\n",
    "states_churn_dictionary = states_churn.to_dict()\n",
    "xdirty = xdirty.replace({'State':states_churn_dictionary})"
   ]
  },
  {
   "cell_type": "markdown",
   "metadata": {},
   "source": [
    "#### Scaling"
   ]
  },
  {
   "cell_type": "code",
   "execution_count": 17,
   "metadata": {},
   "outputs": [],
   "source": [
    "x_scale = xdirty.drop('State',axis=1)\n",
    "x_scale_attribs = list(x_scale)\n",
    "\n",
    "std_scaler = preprocessing.StandardScaler()\n",
    "x_scale[x_scale_attribs] = std_scaler.fit_transform(x_scale[x_scale_attribs])\n",
    "\n",
    "x_clean = x_scale.copy()"
   ]
  },
  {
   "cell_type": "code",
   "execution_count": 18,
   "metadata": {},
   "outputs": [],
   "source": [
    "x_clean = x_clean.join(xdirty['State'])"
   ]
  },
  {
   "cell_type": "markdown",
   "metadata": {},
   "source": [
    "#### Rejoin scaled values with binary columns "
   ]
  },
  {
   "cell_type": "code",
   "execution_count": 19,
   "metadata": {},
   "outputs": [],
   "source": [
    "x_clean = x_clean.join(binary_cols)"
   ]
  },
  {
   "cell_type": "markdown",
   "metadata": {},
   "source": [
    "#### Convert churn values into 0 or 1"
   ]
  },
  {
   "cell_type": "code",
   "execution_count": 20,
   "metadata": {},
   "outputs": [],
   "source": [
    "yFull = yFull.map({False:0, True:1})"
   ]
  },
  {
   "cell_type": "markdown",
   "metadata": {},
   "source": [
    "#### Join yFull and x_clean then transform into numpy array"
   ]
  },
  {
   "cell_type": "code",
   "execution_count": 21,
   "metadata": {},
   "outputs": [
    {
     "data": {
      "text/plain": [
       "(3333, 19)"
      ]
     },
     "execution_count": 21,
     "metadata": {},
     "output_type": "execute_result"
    }
   ],
   "source": [
    "companyB_combined = x_clean.join(yFull).copy()\n",
    "companyB_combined = companyB_combined.to_numpy()\n",
    "companyB_combined.shape"
   ]
  },
  {
   "cell_type": "markdown",
   "metadata": {},
   "source": [
    "So the array has 19 values per row, one of which being the dependent variable. 3333 rows"
   ]
  },
  {
   "cell_type": "code",
   "execution_count": 23,
   "metadata": {},
   "outputs": [
    {
     "data": {
      "text/plain": [
       "(2733, 19)"
      ]
     },
     "execution_count": 23,
     "metadata": {},
     "output_type": "execute_result"
    },
    {
     "data": {
      "text/plain": [
       "(600, 19)"
      ]
     },
     "execution_count": 23,
     "metadata": {},
     "output_type": "execute_result"
    }
   ],
   "source": [
    "#3333 values so say 600 are test and then 300 are validation\n",
    "\n",
    "testFull = companyB_combined[:600].copy()\n",
    "trainFull = companyB_combined[600:].copy()\n",
    "#validationFull = companyB_combined[3000:].copy()\n",
    "trainFull.shape\n",
    "testFull.shape\n",
    "\n",
    "\n",
    "xTest = testFull[:,0:18]\n",
    "yTest = testFull[:,18]\n",
    "\n",
    "xTrain = trainFull[:,0:18]\n",
    "yTrain = trainFull[:,18]\n",
    "\n",
    "#xValidation = validationFull[:,0:17]\n",
    "#yValidation = validationFull[:,17]"
   ]
  },
  {
   "cell_type": "markdown",
   "metadata": {},
   "source": [
    "# Base NN"
   ]
  },
  {
   "cell_type": "code",
   "execution_count": 24,
   "metadata": {},
   "outputs": [
    {
     "name": "stdout",
     "output_type": "stream",
     "text": [
      "342/342 [==============================] - 2s 1ms/step - loss: 0.4259 - accuracy: 0.8076 - val_loss: 0.2993 - val_accuracy: 0.8767\n",
      "342/342 [==============================] - 1s 1ms/step - loss: 0.4427 - accuracy: 0.8146 - val_loss: 0.2590 - val_accuracy: 0.8983\n",
      "342/342 [==============================] - 1s 1ms/step - loss: 0.4010 - accuracy: 0.8290 - val_loss: 0.2781 - val_accuracy: 0.9017\n",
      "342/342 [==============================] - 1s 1ms/step - loss: 0.4141 - accuracy: 0.8260 - val_loss: 0.2854 - val_accuracy: 0.9033\n",
      "342/342 [==============================] - 1s 1ms/step - loss: 0.4646 - accuracy: 0.7989 - val_loss: 0.2719 - val_accuracy: 0.8883\n",
      "342/342 [==============================] - 1s 1ms/step - loss: 0.4154 - accuracy: 0.8130 - val_loss: 0.2753 - val_accuracy: 0.8950\n",
      "342/342 [==============================] - 1s 1ms/step - loss: 0.4037 - accuracy: 0.8374 - val_loss: 0.2516 - val_accuracy: 0.8967\n",
      "342/342 [==============================] - 1s 1ms/step - loss: 0.4634 - accuracy: 0.7842 - val_loss: 0.2755 - val_accuracy: 0.8967\n",
      "342/342 [==============================] - 1s 1ms/step - loss: 0.4496 - accuracy: 0.7970 - val_loss: 0.2741 - val_accuracy: 0.8933\n",
      "342/342 [==============================] - 1s 1ms/step - loss: 0.4157 - accuracy: 0.8163 - val_loss: 0.2996 - val_accuracy: 0.8733\n"
     ]
    }
   ],
   "source": [
    "#Create empty arrays to hold metrics\n",
    "train_accuracy_array = []\n",
    "train_recall_array = []\n",
    "train_precision_array = []\n",
    "\n",
    "test_accuracy_array = []\n",
    "test_recall_array = []\n",
    "test_precision_array = []\n",
    "\n",
    "for i in range(0,10):\n",
    "    def build_model(n_hidden=3, n_neurons = 30, learn=3e-3, dropout_rate=0.04):\n",
    "        model = keras.models.Sequential()\n",
    "        model.add(keras.layers.InputLayer(input_shape=[18]))\n",
    "        for layer in range(n_hidden):\n",
    "            model.add(keras.layers.Dropout(dropout_rate))\n",
    "            model.add(keras.layers.Dense(n_neurons, activation=\"selu\",kernel_initializer=\"lecun_normal\"))\n",
    "        model.add(keras.layers.Dense(1, activation=\"sigmoid\"))\n",
    "        opt = keras.optimizers.Nadam(learning_rate=learn)\n",
    "        model.compile(loss='binary_crossentropy', optimizer=opt, metrics=['accuracy'])\n",
    "        return model\n",
    "\n",
    "    keras_classifier = keras.wrappers.scikit_learn.KerasRegressor(build_model)\n",
    "    early_stopping = EarlyStopping(patience = 20, restore_best_weights=True)\n",
    "    model = keras_classifier.fit(xTrain, yTrain, epochs=1, batch_size=8,validation_data=(xTest, yTest),callbacks=[early_stopping])\n",
    "    \n",
    "    #get predictions for xtrain and x test\n",
    "    y_pred_train = keras_classifier.predict(xTrain)\n",
    "    y_pred_test = keras_classifier.predict(xTest)\n",
    "    \n",
    "    #Get metrics\n",
    "    train_acc = accuracy_score(yTrain , np.rint(y_pred_train))*100\n",
    "    train_recall = recall_score(yTrain , np.rint(y_pred_train))\n",
    "    train_prec = precision_score(yTrain , np.rint(y_pred_train))*100\n",
    "    \n",
    "    test_acc = accuracy_score(yTest , np.rint(y_pred_test))*100\n",
    "    test_recall = recall_score(yTest , np.rint(y_pred_test))\n",
    "    test_prec = precision_score(yTest , np.rint(y_pred_test))*100\n",
    "    \n",
    "    #Insert metrics into relevant arrays\n",
    "    train_accuracy_array.append(train_acc)\n",
    "    train_recall_array.append(train_recall)\n",
    "    train_precision_array.append(train_prec)\n",
    "    \n",
    "    test_accuracy_array.append(test_acc)\n",
    "    test_recall_array.append(test_recall)\n",
    "    test_precision_array.append(test_prec)"
   ]
  },
  {
   "cell_type": "markdown",
   "metadata": {},
   "source": [
    "# Get average of each metric from base NN"
   ]
  },
  {
   "cell_type": "code",
   "execution_count": 25,
   "metadata": {},
   "outputs": [],
   "source": [
    "#Create function to get the average of a list\n",
    "def avg_list(x):\n",
    "    return sum(x) / len(x)\n"
   ]
  },
  {
   "cell_type": "code",
   "execution_count": 26,
   "metadata": {},
   "outputs": [
    {
     "name": "stdout",
     "output_type": "stream",
     "text": [
      "Mean train accuracy: 89.97804610318332\n",
      "Mean train recall: 0.46361323155216283\n",
      "Mean train precision: 74.9925129394899\n",
      "Mean test accuracy: 89.23333333333332\n",
      "Mean test recall: 0.4444444444444445\n",
      "Mean test precision: 74.33932125510213\n"
     ]
    }
   ],
   "source": [
    "print('Mean train accuracy: ' + str(avg_list(train_accuracy_array)))\n",
    "print('Mean train recall: ' + str(avg_list(train_recall_array)))\n",
    "print('Mean train precision: ' + str(avg_list(train_precision_array)))\n",
    "\n",
    "print('Mean test accuracy: ' + str(avg_list(test_accuracy_array)))\n",
    "print('Mean test recall: ' + str(avg_list(test_recall_array)))\n",
    "print('Mean test precision: ' + str(avg_list(test_precision_array)))"
   ]
  },
  {
   "cell_type": "markdown",
   "metadata": {},
   "source": [
    "#### Randomized Search"
   ]
  },
  {
   "cell_type": "code",
   "execution_count": null,
   "metadata": {},
   "outputs": [],
   "source": [
    "model = KerasClassifier(build_fn=build_model) \n",
    "\n",
    "# Specify parameters and distributions\n",
    "n_hidden =range(10)\n",
    "n_neurons = range(300)\n",
    "\n",
    "#Prepare dictionary for search\n",
    "param_dist = dict(n_hidden=n_hidden, n_neurons=n_neurons)\n",
    "\n",
    "#Search\n",
    "n_iter_search = 20\n",
    "random_search = RandomizedSearchCV(estimator=model, \n",
    "                                   param_distributions=param_dist,\n",
    "                                   n_iter=n_iter_search,\n",
    "                                   n_jobs=1, \n",
    "\t\t\t\t\t\t\t\t   verbose=1)\n",
    "\n",
    "#early_stopping = EarlyStopping(patience = 20, restore_best_weights=True)\n",
    "#model = model.fit(xTrain, yTrain, epochs=100, batch_size=8,validation_data=(xTest, yTest),callbacks=[early_stopping])\n",
    "\n",
    "random_search.fit(xTrain, yTrain)"
   ]
  },
  {
   "cell_type": "markdown",
   "metadata": {},
   "source": [
    "#### Metrics, Confusion matrices and learning curves\n",
    "\n",
    "These metrics are for last model loop above\n",
    "\n",
    "We argue that the most important part of the confusion matrix is the bottom left corner which shows churn that was not identified as these are customers lost, top right shows non-churn who were mistaken for churn (and so perhaps sent a deal) however the cost of this is worth it."
   ]
  },
  {
   "cell_type": "code",
   "execution_count": 32,
   "metadata": {},
   "outputs": [
    {
     "data": {
      "text/plain": [
       "array([[2235,  105],\n",
       "       [ 178,  215]], dtype=int64)"
      ]
     },
     "execution_count": 32,
     "metadata": {},
     "output_type": "execute_result"
    },
    {
     "name": "stdout",
     "output_type": "stream",
     "text": [
      "Train accuracy: 89.64507866813027\n",
      "Train recall: 0.5470737913486005\n",
      "Train precision: 67.1875\n"
     ]
    },
    {
     "data": {
      "text/plain": [
       "array([[484,  26],\n",
       "       [ 50,  40]], dtype=int64)"
      ]
     },
     "execution_count": 32,
     "metadata": {},
     "output_type": "execute_result"
    },
    {
     "name": "stdout",
     "output_type": "stream",
     "text": [
      "Test accuracy: 87.33333333333333\n",
      "Test recall: 0.4444444444444444\n",
      "Test precision: 60.60606060606061\n"
     ]
    }
   ],
   "source": [
    "#Confusion matrix for train\n",
    "y_pred_train = keras_classifier.predict(xTrain)\n",
    "confusion_matrix_train = sklearn.metrics.confusion_matrix(yTrain, np.rint(y_pred_train))\n",
    "confusion_matrix_train\n",
    "\n",
    "\n",
    "print('Train accuracy: ' + str(accuracy_score(yTrain , np.rint(y_pred_train))*100))\n",
    "print('Train recall: ' + str(recall_score(yTrain , np.rint(y_pred_train))))\n",
    "print('Train precision: ' + str(precision_score(yTrain , np.rint(y_pred_train))*100))\n",
    "\n",
    "\n",
    "# Confusion matrix for test\n",
    "y_pred = keras_classifier.predict(xTest)\n",
    "confusion_matrix = sklearn.metrics.confusion_matrix(yTest, np.rint(y_pred))\n",
    "confusion_matrix\n",
    "\n",
    "print('Test accuracy: ' + str(accuracy_score(yTest, np.rint(y_pred))*100))\n",
    "print('Test recall: ' + str(recall_score(yTest, np.rint(y_pred))))\n",
    "print('Test precision: ' + str(precision_score(yTest , np.rint(y_pred))*100))"
   ]
  },
  {
   "cell_type": "markdown",
   "metadata": {},
   "source": [
    "# NN with class weights"
   ]
  },
  {
   "cell_type": "code",
   "execution_count": 34,
   "metadata": {},
   "outputs": [
    {
     "name": "stdout",
     "output_type": "stream",
     "text": [
      "1\n",
      "2\n",
      "3\n",
      "4\n",
      "5\n"
     ]
    }
   ],
   "source": [
    "#Set class weights\n",
    "train_acc_master = []\n",
    "train_recall_master = []\n",
    "train_prec_master = []\n",
    "\n",
    "test_acc_master = []\n",
    "test_recall_master = []\n",
    "test_prec_master = []\n",
    "\n",
    "for x in range(1,6):\n",
    "    print(x)\n",
    "    class_weight = {0: 1.,\n",
    "                    1: x }\n",
    "\n",
    "    #Create empty arrays to hold metrics\n",
    "    train_accuracy_array_2 = []\n",
    "    train_recall_array_2 = []\n",
    "    train_precision_array_2 = []\n",
    "\n",
    "    test_accuracy_array_2 = []\n",
    "    test_recall_array_2 = []\n",
    "    test_precision_array_2 = []\n",
    "\n",
    "\n",
    "    for i in range(0,20):\n",
    "        #Create function to build model\n",
    "        def build_model_2(n_hidden=3, n_neurons = 30, learn=3e-3, dropout_rate=0.04):\n",
    "            model = keras.models.Sequential()\n",
    "            model.add(keras.layers.InputLayer(input_shape=[18]))\n",
    "            for layer in range(n_hidden):\n",
    "                model.add(keras.layers.Dropout(dropout_rate))\n",
    "                model.add(keras.layers.Dense(n_neurons, activation=\"selu\",kernel_initializer=\"lecun_normal\"))\n",
    "            model.add(keras.layers.Dense(1, activation=\"sigmoid\"))\n",
    "            opt = keras.optimizers.Nadam(learning_rate=learn)\n",
    "            model.compile(loss='binary_crossentropy', optimizer=opt, metrics=['accuracy'])\n",
    "            return model\n",
    "\n",
    "\n",
    "        #Create Keras regressor based on this build\n",
    "        keras_classifier_2 = keras.wrappers.scikit_learn.KerasRegressor(build_model_2)\n",
    "        early_stopping = EarlyStopping(patience = 20, restore_best_weights=True)\n",
    "        model_2 = keras_classifier_2.fit(xTrain, yTrain, epochs=100, batch_size=8,validation_data=(xTest, yTest),callbacks=[early_stopping],verbose = 0, class_weight=class_weight)\n",
    "\n",
    "        #get predictions for xtrain and x test\n",
    "        y_pred_train_2 = keras_classifier_2.predict(xTrain)\n",
    "        y_pred_test_2 = keras_classifier_2.predict(xTest)\n",
    "\n",
    "        #Get metrics\n",
    "        train_acc_2 = accuracy_score(yTrain , np.rint(y_pred_train_2))*100\n",
    "        train_recall_2 = recall_score(yTrain , np.rint(y_pred_train_2))*100\n",
    "        train_prec_2 = precision_score(yTrain , np.rint(y_pred_train_2))*100\n",
    "\n",
    "        test_acc_2 = accuracy_score(yTest , np.rint(y_pred_test_2))*100\n",
    "        test_recall_2 = recall_score(yTest , np.rint(y_pred_test_2))*100\n",
    "        test_prec_2 = precision_score(yTest , np.rint(y_pred_test_2))*100\n",
    "\n",
    "        #Insert metrics into relevant arrays\n",
    "        train_accuracy_array_2.append(train_acc_2)\n",
    "        train_recall_array_2.append(train_recall_2)\n",
    "        train_precision_array_2.append(train_prec_2)\n",
    "\n",
    "        test_accuracy_array_2.append(test_acc_2)\n",
    "        test_recall_array_2.append(test_recall_2)\n",
    "        test_precision_array_2.append(test_prec_2)\n",
    "    \n",
    "    #Get mean value of each metric \n",
    "    train_mean_acc = avg_list(train_accuracy_array_2)\n",
    "    train_mean_recall = avg_list(train_recall_array_2)\n",
    "    train_mean_prec = avg_list(train_precision_array_2)\n",
    "    \n",
    "    test_mean_acc = avg_list(test_accuracy_array_2)\n",
    "    test_mean_recall = avg_list(test_recall_array_2)\n",
    "    test_mean_prec = avg_list(test_precision_array_2)\n",
    "    \n",
    "    #Insert mean values into master array\n",
    "    train_acc_master.append(train_mean_acc)\n",
    "    train_recall_master.append(train_mean_recall)\n",
    "    train_prec_master.append(train_mean_prec)\n",
    "\n",
    "    test_acc_master.append(test_mean_acc)\n",
    "    test_recall_master.append(test_mean_recall)\n",
    "    test_prec_master.append(test_mean_prec)"
   ]
  },
  {
   "cell_type": "code",
   "execution_count": 35,
   "metadata": {},
   "outputs": [
    {
     "name": "stdout",
     "output_type": "stream",
     "text": [
      "1:1 Training Accuracy = 96.93194291986826\n",
      "1:1 Training Recall = 82.63358778625954\n",
      "1:1 Training Precision = 95.44520232151305\n",
      "1:1 Test Accuracy = 95.60833333333333\n",
      "1:1 Test Recall = 76.33333333333334\n",
      "1:1 Test Precision = 93.22159159283883\n",
      "\n",
      "\n",
      "1:2 Training Accuracy = 96.80021953896816\n",
      "1:2 Training Recall = 83.63867684478373\n",
      "1:2 Training Precision = 93.53257104421643\n",
      "1:2 Test Accuracy = 95.3\n",
      "1:2 Test Recall = 76.94444444444444\n",
      "1:2 Test Precision = 90.49974778594095\n",
      "\n",
      "\n",
      "1:3 Training Accuracy = 96.72703988291254\n",
      "1:3 Training Recall = 85.470737913486\n",
      "1:3 Training Precision = 91.30737049843617\n",
      "1:3 Test Accuracy = 95.25000000000001\n",
      "1:3 Test Recall = 78.16666666666669\n",
      "1:3 Test Precision = 88.95279886508158\n",
      "\n",
      "\n",
      "1:4 Training Accuracy = 95.83424807903401\n",
      "1:4 Training Recall = 85.22900763358777\n",
      "1:4 Training Precision = 86.01217914643482\n",
      "1:4 Test Accuracy = 94.50833333333334\n",
      "1:4 Test Recall = 78.55555555555556\n",
      "1:4 Test Precision = 84.08333335836609\n",
      "\n",
      "\n",
      "1:5 Training Accuracy = 95.52506403219907\n",
      "1:5 Training Recall = 86.73027989821885\n",
      "1:5 Training Precision = 83.28971573916229\n",
      "1:5 Test Accuracy = 93.85000000000001\n",
      "1:5 Test Recall = 79.44444444444446\n",
      "1:5 Test Precision = 79.94657256293117\n",
      "\n",
      "\n"
     ]
    }
   ],
   "source": [
    "for i in range(1, len(train_acc_master)+1):\n",
    "    x=i-1\n",
    "    print('1:' +str(i) +' Training Accuracy = ' + str(train_acc_master[x]))\n",
    "    print('1:' +str(i) +' Training Recall = ' + str(train_recall_master[x]))\n",
    "    print('1:' +str(i) +' Training Precision = ' + str(train_prec_master[x]))\n",
    "    print('1:' +str(i) +' Test Accuracy = ' + str(test_acc_master[x]))\n",
    "    print('1:' +str(i) +' Test Recall = ' + str(test_recall_master[x]))\n",
    "    print('1:' +str(i) +' Test Precision = ' + str(test_prec_master[x]))\n",
    "    print('')\n",
    "    print('')"
   ]
  },
  {
   "cell_type": "code",
   "execution_count": 36,
   "metadata": {},
   "outputs": [
    {
     "name": "stdout",
     "output_type": "stream",
     "text": [
      "Mean train accuracy: 95.52506403219907\n",
      "Mean train recall: 86.73027989821885\n",
      "Mean train precision: 83.28971573916229\n",
      "Mean test accuracy: 93.85000000000001\n",
      "Mean test recall: 79.44444444444446\n",
      "Mean test precision: 79.94657256293117\n"
     ]
    }
   ],
   "source": [
    "print('Mean train accuracy: ' + str(avg_list(train_accuracy_array_2)))\n",
    "print('Mean train recall: ' + str(avg_list(train_recall_array_2)))\n",
    "print('Mean train precision: ' + str(avg_list(train_precision_array_2)))\n",
    "\n",
    "print('Mean test accuracy: ' + str(avg_list(test_accuracy_array_2)))\n",
    "print('Mean test recall: ' + str(avg_list(test_recall_array_2)))\n",
    "print('Mean test precision: ' + str(avg_list(test_precision_array_2)))"
   ]
  },
  {
   "cell_type": "code",
   "execution_count": 37,
   "metadata": {},
   "outputs": [
    {
     "data": {
      "text/plain": [
       "array([[2263,   77],\n",
       "       [  58,  335]], dtype=int64)"
      ]
     },
     "execution_count": 37,
     "metadata": {},
     "output_type": "execute_result"
    },
    {
     "name": "stdout",
     "output_type": "stream",
     "text": [
      "Train accuracy: 95.06037321624589\n",
      "Train recall: 0.8524173027989822\n"
     ]
    },
    {
     "data": {
      "text/plain": [
       "array([[489,  21],\n",
       "       [ 17,  73]], dtype=int64)"
      ]
     },
     "execution_count": 37,
     "metadata": {},
     "output_type": "execute_result"
    },
    {
     "name": "stdout",
     "output_type": "stream",
     "text": [
      "Test accuracy: 93.66666666666667\n",
      "Test recall: 0.8111111111111111\n"
     ]
    },
    {
     "data": {
      "text/plain": [
       "<AxesSubplot:>"
      ]
     },
     "execution_count": 37,
     "metadata": {},
     "output_type": "execute_result"
    },
    {
     "data": {
      "text/plain": [
       "(0.0, 1.0)"
      ]
     },
     "execution_count": 37,
     "metadata": {},
     "output_type": "execute_result"
    },
    {
     "data": {
      "image/png": "[encoded data removed]",
      "text/plain": [
       "<Figure size 576x360 with 1 Axes>"
      ]
     },
     "metadata": {
      "needs_background": "light"
     },
     "output_type": "display_data"
    }
   ],
   "source": [
    "#Confusion matrix for train\n",
    "y_pred_train = keras_classifier_2.predict(xTrain)\n",
    "confusion_matrix_train = sklearn.metrics.confusion_matrix(yTrain, np.rint(y_pred_train))\n",
    "confusion_matrix_train\n",
    "\n",
    "\n",
    "print('Train accuracy: ' + str(accuracy_score(yTrain , np.rint(y_pred_train))*100))\n",
    "print('Train recall: ' + str(recall_score(yTrain , np.rint(y_pred_train))))\n",
    "\n",
    "\n",
    "# Confusion matrix for test\n",
    "y_pred = keras_classifier_2.predict(xTest)\n",
    "confusion_matrix = sklearn.metrics.confusion_matrix(yTest, np.rint(y_pred))\n",
    "confusion_matrix\n",
    "\n",
    "print('Test accuracy: ' + str(accuracy_score(yTest, np.rint(y_pred))*100))\n",
    "print('Test recall: ' + str(recall_score(yTest, np.rint(y_pred))))\n",
    "\n",
    "#Learning curves\n",
    "pd.DataFrame(model_2.history).plot(figsize=(8, 5))\n",
    "plt.grid(True)\n",
    "plt.gca().set_ylim(0, 1) # set the vertical range to [0-1]\n",
    "plt.show()"
   ]
  },
  {
   "cell_type": "code",
   "execution_count": null,
   "metadata": {},
   "outputs": [],
   "source": []
  }
 ],
 "metadata": {
  "kernelspec": {
   "display_name": "Python 3",
   "language": "python",
   "name": "python3"
  },
  "language_info": {
   "codemirror_mode": {
    "name": "ipython",
    "version": 3
   },
   "file_extension": ".py",
   "mimetype": "text/x-python",
   "name": "python",
   "nbconvert_exporter": "python",
   "pygments_lexer": "ipython3",
   "version": "3.8.5"
  }
 },
 "nbformat": 4,
 "nbformat_minor": 4
}
