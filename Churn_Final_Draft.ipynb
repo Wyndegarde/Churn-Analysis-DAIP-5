{
  "nbformat": 4,
  "nbformat_minor": 0,
  "metadata": {
    "colab": {
      "name": "Churn Final Draft.ipynb",
      "provenance": [],
      "collapsed_sections": [
        "gQxzHqXaLYFF",
        "0hEY7ENm3XyT",
        "dtI8bdzZMedB",
        "voLZSYPgLc_b",
        "9KpUv9xqq8cC",
        "1L37QL7uczDc"
      ],
      "toc_visible": true,
      "mount_file_id": "1nVVSzvvq7QA6P1OhwZQ0zik6esemEHG-",
      "authorship_tag": "ABX9TyMB/ITdjFRcXFIvfY7/v+Mv",
      "include_colab_link": true
    },
    "kernelspec": {
      "name": "python3",
      "display_name": "Python 3"
    },
    "accelerator": "GPU"
  },
  "cells": [
    {
      "cell_type": "markdown",
      "metadata": {
        "id": "view-in-github",
        "colab_type": "text"
      },
      "source": [
        "<a href=\"https://colab.research.google.com/github/Wyndegarde/MS984/blob/main/Churn_Final_Draft.ipynb\" target=\"_parent\"><img src=\"https://colab.research.google.com/assets/colab-badge.svg\" alt=\"Open In Colab\"/></a>"
      ]
    },
    {
      "cell_type": "markdown",
      "metadata": {
        "id": "o3Cyn0NcjSVM"
      },
      "source": [
        "# Importing Packages and Data"
      ]
    },
    {
      "cell_type": "code",
      "metadata": {
        "id": "o-A39G5M8VYC"
      },
      "source": [
        "import pandas as pd\n",
        "import numpy as np\n",
        "import matplotlib.pyplot as plt\n",
        "import seaborn as sns\n",
        "from sklearn.preprocessing import LabelEncoder\n",
        "from sklearn.preprocessing import StandardScaler\n",
        "from sklearn.model_selection import train_test_split\n",
        "from sklearn.preprocessing import OneHotEncoder\n",
        "from sklearn.preprocessing import OrdinalEncoder\n",
        "from sklearn.metrics import classification_report\n",
        "from sklearn.metrics import confusion_matrix\n",
        "from sklearn.ensemble import RandomForestClassifier\n",
        "from sklearn.model_selection import GridSearchCV\n",
        "from sklearn.model_selection import cross_val_predict\n",
        "from sklearn.metrics import roc_curve\n",
        "from sklearn.metrics import roc_auc_score\n",
        "import matplotlib.ticker as mtick\n",
        "from matplotlib.ticker import PercentFormatter\n",
        "from sklearn.metrics import accuracy_score\n",
        "from sklearn.metrics import recall_score\n",
        "from sklearn.metrics import precision_score\n",
        "from imblearn.over_sampling import SMOTENC\n",
        "from collections import Counter"
      ],
      "execution_count": null,
      "outputs": []
    },
    {
      "cell_type": "code",
      "metadata": {
        "id": "MZIwO9LW8vmu"
      },
      "source": [
        "companyA = pd.read_csv(\"drive/MyDrive/CompanyA.csv\")\n",
        "companyB = pd.read_csv(\"drive/MyDrive/CompanyB.csv\")"
      ],
      "execution_count": null,
      "outputs": []
    },
    {
      "cell_type": "markdown",
      "metadata": {
        "id": "Dirv0CPSDOVP"
      },
      "source": [
        "# Data Cleaning"
      ]
    },
    {
      "cell_type": "code",
      "metadata": {
        "colab": {
          "base_uri": "https://localhost:8080/"
        },
        "id": "F7M8ZKAuIDAY",
        "outputId": "952d4369-bebf-4d1b-e9d8-8aa6e10940b3"
      },
      "source": [
        "companyA.loc[companyA['MonthlyCharges'] == 61.9]"
      ],
      "execution_count": null,
      "outputs": [
        {
          "output_type": "execute_result",
          "data": {
            "text/html": [
              "<div>\n",
              "<style scoped>\n",
              "    .dataframe tbody tr th:only-of-type {\n",
              "        vertical-align: middle;\n",
              "    }\n",
              "\n",
              "    .dataframe tbody tr th {\n",
              "        vertical-align: top;\n",
              "    }\n",
              "\n",
              "    .dataframe thead th {\n",
              "        text-align: right;\n",
              "    }\n",
              "</style>\n",
              "<table border=\"1\" class=\"dataframe\">\n",
              "  <thead>\n",
              "    <tr style=\"text-align: right;\">\n",
              "      <th></th>\n",
              "      <th>Unnamed: 0</th>\n",
              "      <th>customerID</th>\n",
              "      <th>gender</th>\n",
              "      <th>SeniorCitizen</th>\n",
              "      <th>Partner</th>\n",
              "      <th>Dependents</th>\n",
              "      <th>tenure</th>\n",
              "      <th>PhoneService</th>\n",
              "      <th>MultipleLines</th>\n",
              "      <th>InternetService</th>\n",
              "      <th>OnlineSecurity</th>\n",
              "      <th>OnlineBackup</th>\n",
              "      <th>DeviceProtection</th>\n",
              "      <th>TechSupport</th>\n",
              "      <th>StreamingTV</th>\n",
              "      <th>StreamingMovies</th>\n",
              "      <th>Contract</th>\n",
              "      <th>PaperlessBilling</th>\n",
              "      <th>PaymentMethod</th>\n",
              "      <th>MonthlyCharges</th>\n",
              "      <th>TotalCharges</th>\n",
              "      <th>Churn</th>\n",
              "    </tr>\n",
              "  </thead>\n",
              "  <tbody>\n",
              "    <tr>\n",
              "      <th>356</th>\n",
              "      <td>6754</td>\n",
              "      <td>2775-SEFEE</td>\n",
              "      <td>Male</td>\n",
              "      <td>0</td>\n",
              "      <td>No</td>\n",
              "      <td>Yes</td>\n",
              "      <td>0</td>\n",
              "      <td>Yes</td>\n",
              "      <td>Yes</td>\n",
              "      <td>DSL</td>\n",
              "      <td>Yes</td>\n",
              "      <td>Yes</td>\n",
              "      <td>No</td>\n",
              "      <td>Yes</td>\n",
              "      <td>No</td>\n",
              "      <td>No</td>\n",
              "      <td>Two year</td>\n",
              "      <td>Yes</td>\n",
              "      <td>Bank transfer (automatic)</td>\n",
              "      <td>61.9</td>\n",
              "      <td></td>\n",
              "      <td>No</td>\n",
              "    </tr>\n",
              "    <tr>\n",
              "      <th>4080</th>\n",
              "      <td>6852</td>\n",
              "      <td>2408-PSJVE</td>\n",
              "      <td>Male</td>\n",
              "      <td>0</td>\n",
              "      <td>Yes</td>\n",
              "      <td>Yes</td>\n",
              "      <td>44</td>\n",
              "      <td>Yes</td>\n",
              "      <td>No</td>\n",
              "      <td>DSL</td>\n",
              "      <td>No</td>\n",
              "      <td>Yes</td>\n",
              "      <td>Yes</td>\n",
              "      <td>Yes</td>\n",
              "      <td>No</td>\n",
              "      <td>No</td>\n",
              "      <td>Month-to-month</td>\n",
              "      <td>Yes</td>\n",
              "      <td>Mailed check</td>\n",
              "      <td>61.9</td>\n",
              "      <td>2924.05</td>\n",
              "      <td>No</td>\n",
              "    </tr>\n",
              "  </tbody>\n",
              "</table>\n",
              "</div>"
            ],
            "text/plain": [
              "      Unnamed: 0  customerID gender  ...  MonthlyCharges TotalCharges Churn\n",
              "356         6754  2775-SEFEE   Male  ...            61.9                 No\n",
              "4080        6852  2408-PSJVE   Male  ...            61.9      2924.05    No\n",
              "\n",
              "[2 rows x 22 columns]"
            ]
          },
          "metadata": {
            "tags": []
          },
          "execution_count": 214
        }
      ]
    },
    {
      "cell_type": "code",
      "metadata": {
        "id": "Lc61JDZNH6kG"
      },
      "source": [
        "companyA = companyA.replace(r'^\\s*$', np.NaN, regex=True)"
      ],
      "execution_count": null,
      "outputs": []
    },
    {
      "cell_type": "code",
      "metadata": {
        "colab": {
          "base_uri": "https://localhost:8080/"
        },
        "id": "GkkOpurOJ_ao",
        "outputId": "8320ac70-00d9-4bd2-e5e8-213cdd4dc57a"
      },
      "source": [
        "companyA[companyA[\"TotalCharges\"].isna()] # No senior citizens, all 0 year contracts. No Churns. No issue dropping rows."
      ],
      "execution_count": null,
      "outputs": [
        {
          "output_type": "execute_result",
          "data": {
            "text/html": [
              "<div>\n",
              "<style scoped>\n",
              "    .dataframe tbody tr th:only-of-type {\n",
              "        vertical-align: middle;\n",
              "    }\n",
              "\n",
              "    .dataframe tbody tr th {\n",
              "        vertical-align: top;\n",
              "    }\n",
              "\n",
              "    .dataframe thead th {\n",
              "        text-align: right;\n",
              "    }\n",
              "</style>\n",
              "<table border=\"1\" class=\"dataframe\">\n",
              "  <thead>\n",
              "    <tr style=\"text-align: right;\">\n",
              "      <th></th>\n",
              "      <th>Unnamed: 0</th>\n",
              "      <th>customerID</th>\n",
              "      <th>gender</th>\n",
              "      <th>SeniorCitizen</th>\n",
              "      <th>Partner</th>\n",
              "      <th>Dependents</th>\n",
              "      <th>tenure</th>\n",
              "      <th>PhoneService</th>\n",
              "      <th>MultipleLines</th>\n",
              "      <th>InternetService</th>\n",
              "      <th>OnlineSecurity</th>\n",
              "      <th>OnlineBackup</th>\n",
              "      <th>DeviceProtection</th>\n",
              "      <th>TechSupport</th>\n",
              "      <th>StreamingTV</th>\n",
              "      <th>StreamingMovies</th>\n",
              "      <th>Contract</th>\n",
              "      <th>PaperlessBilling</th>\n",
              "      <th>PaymentMethod</th>\n",
              "      <th>MonthlyCharges</th>\n",
              "      <th>TotalCharges</th>\n",
              "      <th>Churn</th>\n",
              "    </tr>\n",
              "  </thead>\n",
              "  <tbody>\n",
              "    <tr>\n",
              "      <th>356</th>\n",
              "      <td>6754</td>\n",
              "      <td>2775-SEFEE</td>\n",
              "      <td>Male</td>\n",
              "      <td>0</td>\n",
              "      <td>No</td>\n",
              "      <td>Yes</td>\n",
              "      <td>0</td>\n",
              "      <td>Yes</td>\n",
              "      <td>Yes</td>\n",
              "      <td>DSL</td>\n",
              "      <td>Yes</td>\n",
              "      <td>Yes</td>\n",
              "      <td>No</td>\n",
              "      <td>Yes</td>\n",
              "      <td>No</td>\n",
              "      <td>No</td>\n",
              "      <td>Two year</td>\n",
              "      <td>Yes</td>\n",
              "      <td>Bank transfer (automatic)</td>\n",
              "      <td>61.90</td>\n",
              "      <td>NaN</td>\n",
              "      <td>No</td>\n",
              "    </tr>\n",
              "    <tr>\n",
              "      <th>634</th>\n",
              "      <td>1340</td>\n",
              "      <td>1371-DWPAZ</td>\n",
              "      <td>Female</td>\n",
              "      <td>0</td>\n",
              "      <td>Yes</td>\n",
              "      <td>Yes</td>\n",
              "      <td>0</td>\n",
              "      <td>No</td>\n",
              "      <td>No phone service</td>\n",
              "      <td>DSL</td>\n",
              "      <td>Yes</td>\n",
              "      <td>Yes</td>\n",
              "      <td>Yes</td>\n",
              "      <td>Yes</td>\n",
              "      <td>Yes</td>\n",
              "      <td>No</td>\n",
              "      <td>Two year</td>\n",
              "      <td>No</td>\n",
              "      <td>Credit card (automatic)</td>\n",
              "      <td>56.05</td>\n",
              "      <td>NaN</td>\n",
              "      <td>No</td>\n",
              "    </tr>\n",
              "    <tr>\n",
              "      <th>2771</th>\n",
              "      <td>3826</td>\n",
              "      <td>3213-VVOLG</td>\n",
              "      <td>Male</td>\n",
              "      <td>0</td>\n",
              "      <td>Yes</td>\n",
              "      <td>Yes</td>\n",
              "      <td>0</td>\n",
              "      <td>Yes</td>\n",
              "      <td>Yes</td>\n",
              "      <td>No</td>\n",
              "      <td>No internet service</td>\n",
              "      <td>No internet service</td>\n",
              "      <td>No internet service</td>\n",
              "      <td>No internet service</td>\n",
              "      <td>No internet service</td>\n",
              "      <td>No internet service</td>\n",
              "      <td>Two year</td>\n",
              "      <td>No</td>\n",
              "      <td>Mailed check</td>\n",
              "      <td>25.35</td>\n",
              "      <td>NaN</td>\n",
              "      <td>No</td>\n",
              "    </tr>\n",
              "    <tr>\n",
              "      <th>3086</th>\n",
              "      <td>5218</td>\n",
              "      <td>2923-ARZLG</td>\n",
              "      <td>Male</td>\n",
              "      <td>0</td>\n",
              "      <td>Yes</td>\n",
              "      <td>Yes</td>\n",
              "      <td>0</td>\n",
              "      <td>Yes</td>\n",
              "      <td>No</td>\n",
              "      <td>No</td>\n",
              "      <td>No internet service</td>\n",
              "      <td>No internet service</td>\n",
              "      <td>No internet service</td>\n",
              "      <td>No internet service</td>\n",
              "      <td>No internet service</td>\n",
              "      <td>No internet service</td>\n",
              "      <td>One year</td>\n",
              "      <td>Yes</td>\n",
              "      <td>Mailed check</td>\n",
              "      <td>19.70</td>\n",
              "      <td>NaN</td>\n",
              "      <td>No</td>\n",
              "    </tr>\n",
              "    <tr>\n",
              "      <th>3255</th>\n",
              "      <td>3331</td>\n",
              "      <td>7644-OMVMY</td>\n",
              "      <td>Male</td>\n",
              "      <td>0</td>\n",
              "      <td>Yes</td>\n",
              "      <td>Yes</td>\n",
              "      <td>0</td>\n",
              "      <td>Yes</td>\n",
              "      <td>No</td>\n",
              "      <td>No</td>\n",
              "      <td>No internet service</td>\n",
              "      <td>No internet service</td>\n",
              "      <td>No internet service</td>\n",
              "      <td>No internet service</td>\n",
              "      <td>No internet service</td>\n",
              "      <td>No internet service</td>\n",
              "      <td>Two year</td>\n",
              "      <td>No</td>\n",
              "      <td>Mailed check</td>\n",
              "      <td>19.85</td>\n",
              "      <td>NaN</td>\n",
              "      <td>No</td>\n",
              "    </tr>\n",
              "    <tr>\n",
              "      <th>4326</th>\n",
              "      <td>936</td>\n",
              "      <td>5709-LVOEQ</td>\n",
              "      <td>Female</td>\n",
              "      <td>0</td>\n",
              "      <td>Yes</td>\n",
              "      <td>Yes</td>\n",
              "      <td>0</td>\n",
              "      <td>Yes</td>\n",
              "      <td>No</td>\n",
              "      <td>DSL</td>\n",
              "      <td>Yes</td>\n",
              "      <td>Yes</td>\n",
              "      <td>Yes</td>\n",
              "      <td>No</td>\n",
              "      <td>Yes</td>\n",
              "      <td>Yes</td>\n",
              "      <td>Two year</td>\n",
              "      <td>No</td>\n",
              "      <td>Mailed check</td>\n",
              "      <td>80.85</td>\n",
              "      <td>NaN</td>\n",
              "      <td>No</td>\n",
              "    </tr>\n",
              "    <tr>\n",
              "      <th>5375</th>\n",
              "      <td>753</td>\n",
              "      <td>3115-CZMZD</td>\n",
              "      <td>Male</td>\n",
              "      <td>0</td>\n",
              "      <td>No</td>\n",
              "      <td>Yes</td>\n",
              "      <td>0</td>\n",
              "      <td>Yes</td>\n",
              "      <td>No</td>\n",
              "      <td>No</td>\n",
              "      <td>No internet service</td>\n",
              "      <td>No internet service</td>\n",
              "      <td>No internet service</td>\n",
              "      <td>No internet service</td>\n",
              "      <td>No internet service</td>\n",
              "      <td>No internet service</td>\n",
              "      <td>Two year</td>\n",
              "      <td>No</td>\n",
              "      <td>Mailed check</td>\n",
              "      <td>20.25</td>\n",
              "      <td>NaN</td>\n",
              "      <td>No</td>\n",
              "    </tr>\n",
              "    <tr>\n",
              "      <th>5382</th>\n",
              "      <td>4380</td>\n",
              "      <td>2520-SGTTA</td>\n",
              "      <td>Female</td>\n",
              "      <td>0</td>\n",
              "      <td>Yes</td>\n",
              "      <td>Yes</td>\n",
              "      <td>0</td>\n",
              "      <td>Yes</td>\n",
              "      <td>No</td>\n",
              "      <td>No</td>\n",
              "      <td>No internet service</td>\n",
              "      <td>No internet service</td>\n",
              "      <td>No internet service</td>\n",
              "      <td>No internet service</td>\n",
              "      <td>No internet service</td>\n",
              "      <td>No internet service</td>\n",
              "      <td>Two year</td>\n",
              "      <td>No</td>\n",
              "      <td>Mailed check</td>\n",
              "      <td>20.00</td>\n",
              "      <td>NaN</td>\n",
              "      <td>No</td>\n",
              "    </tr>\n",
              "    <tr>\n",
              "      <th>5695</th>\n",
              "      <td>488</td>\n",
              "      <td>4472-LVYGI</td>\n",
              "      <td>Female</td>\n",
              "      <td>0</td>\n",
              "      <td>Yes</td>\n",
              "      <td>Yes</td>\n",
              "      <td>0</td>\n",
              "      <td>No</td>\n",
              "      <td>No phone service</td>\n",
              "      <td>DSL</td>\n",
              "      <td>Yes</td>\n",
              "      <td>No</td>\n",
              "      <td>Yes</td>\n",
              "      <td>Yes</td>\n",
              "      <td>Yes</td>\n",
              "      <td>No</td>\n",
              "      <td>Two year</td>\n",
              "      <td>Yes</td>\n",
              "      <td>Bank transfer (automatic)</td>\n",
              "      <td>52.55</td>\n",
              "      <td>NaN</td>\n",
              "      <td>No</td>\n",
              "    </tr>\n",
              "    <tr>\n",
              "      <th>5951</th>\n",
              "      <td>1082</td>\n",
              "      <td>4367-NUYAO</td>\n",
              "      <td>Male</td>\n",
              "      <td>0</td>\n",
              "      <td>Yes</td>\n",
              "      <td>Yes</td>\n",
              "      <td>0</td>\n",
              "      <td>Yes</td>\n",
              "      <td>Yes</td>\n",
              "      <td>No</td>\n",
              "      <td>No internet service</td>\n",
              "      <td>No internet service</td>\n",
              "      <td>No internet service</td>\n",
              "      <td>No internet service</td>\n",
              "      <td>No internet service</td>\n",
              "      <td>No internet service</td>\n",
              "      <td>Two year</td>\n",
              "      <td>No</td>\n",
              "      <td>Mailed check</td>\n",
              "      <td>25.75</td>\n",
              "      <td>NaN</td>\n",
              "      <td>No</td>\n",
              "    </tr>\n",
              "  </tbody>\n",
              "</table>\n",
              "</div>"
            ],
            "text/plain": [
              "      Unnamed: 0  customerID  gender  ...  MonthlyCharges TotalCharges Churn\n",
              "356         6754  2775-SEFEE    Male  ...           61.90          NaN    No\n",
              "634         1340  1371-DWPAZ  Female  ...           56.05          NaN    No\n",
              "2771        3826  3213-VVOLG    Male  ...           25.35          NaN    No\n",
              "3086        5218  2923-ARZLG    Male  ...           19.70          NaN    No\n",
              "3255        3331  7644-OMVMY    Male  ...           19.85          NaN    No\n",
              "4326         936  5709-LVOEQ  Female  ...           80.85          NaN    No\n",
              "5375         753  3115-CZMZD    Male  ...           20.25          NaN    No\n",
              "5382        4380  2520-SGTTA  Female  ...           20.00          NaN    No\n",
              "5695         488  4472-LVYGI  Female  ...           52.55          NaN    No\n",
              "5951        1082  4367-NUYAO    Male  ...           25.75          NaN    No\n",
              "\n",
              "[10 rows x 22 columns]"
            ]
          },
          "metadata": {
            "tags": []
          },
          "execution_count": 216
        }
      ]
    },
    {
      "cell_type": "code",
      "metadata": {
        "colab": {
          "base_uri": "https://localhost:8080/"
        },
        "id": "r4gMXnz0H87X",
        "outputId": "623f2503-849a-47a8-f44c-7d8c7545f164"
      },
      "source": [
        "companyA['TotalCharges'].isna().sum()"
      ],
      "execution_count": null,
      "outputs": [
        {
          "output_type": "execute_result",
          "data": {
            "text/plain": [
              "10"
            ]
          },
          "metadata": {
            "tags": []
          },
          "execution_count": 217
        }
      ]
    },
    {
      "cell_type": "code",
      "metadata": {
        "id": "MblCJM33IT1w",
        "colab": {
          "base_uri": "https://localhost:8080/"
        },
        "outputId": "0a571ed2-98c3-4e87-9576-1aa1d58829d6"
      },
      "source": [
        "companyA = companyA.dropna()\n",
        "companyA[\"TotalCharges\"] = companyA.TotalCharges.astype(float)\n",
        "companyA.loc[companyA['MonthlyCharges'] == 61.9]"
      ],
      "execution_count": null,
      "outputs": [
        {
          "output_type": "execute_result",
          "data": {
            "text/html": [
              "<div>\n",
              "<style scoped>\n",
              "    .dataframe tbody tr th:only-of-type {\n",
              "        vertical-align: middle;\n",
              "    }\n",
              "\n",
              "    .dataframe tbody tr th {\n",
              "        vertical-align: top;\n",
              "    }\n",
              "\n",
              "    .dataframe thead th {\n",
              "        text-align: right;\n",
              "    }\n",
              "</style>\n",
              "<table border=\"1\" class=\"dataframe\">\n",
              "  <thead>\n",
              "    <tr style=\"text-align: right;\">\n",
              "      <th></th>\n",
              "      <th>Unnamed: 0</th>\n",
              "      <th>customerID</th>\n",
              "      <th>gender</th>\n",
              "      <th>SeniorCitizen</th>\n",
              "      <th>Partner</th>\n",
              "      <th>Dependents</th>\n",
              "      <th>tenure</th>\n",
              "      <th>PhoneService</th>\n",
              "      <th>MultipleLines</th>\n",
              "      <th>InternetService</th>\n",
              "      <th>OnlineSecurity</th>\n",
              "      <th>OnlineBackup</th>\n",
              "      <th>DeviceProtection</th>\n",
              "      <th>TechSupport</th>\n",
              "      <th>StreamingTV</th>\n",
              "      <th>StreamingMovies</th>\n",
              "      <th>Contract</th>\n",
              "      <th>PaperlessBilling</th>\n",
              "      <th>PaymentMethod</th>\n",
              "      <th>MonthlyCharges</th>\n",
              "      <th>TotalCharges</th>\n",
              "      <th>Churn</th>\n",
              "    </tr>\n",
              "  </thead>\n",
              "  <tbody>\n",
              "    <tr>\n",
              "      <th>4080</th>\n",
              "      <td>6852</td>\n",
              "      <td>2408-PSJVE</td>\n",
              "      <td>Male</td>\n",
              "      <td>0</td>\n",
              "      <td>Yes</td>\n",
              "      <td>Yes</td>\n",
              "      <td>44</td>\n",
              "      <td>Yes</td>\n",
              "      <td>No</td>\n",
              "      <td>DSL</td>\n",
              "      <td>No</td>\n",
              "      <td>Yes</td>\n",
              "      <td>Yes</td>\n",
              "      <td>Yes</td>\n",
              "      <td>No</td>\n",
              "      <td>No</td>\n",
              "      <td>Month-to-month</td>\n",
              "      <td>Yes</td>\n",
              "      <td>Mailed check</td>\n",
              "      <td>61.9</td>\n",
              "      <td>2924.05</td>\n",
              "      <td>No</td>\n",
              "    </tr>\n",
              "  </tbody>\n",
              "</table>\n",
              "</div>"
            ],
            "text/plain": [
              "      Unnamed: 0  customerID gender  ...  MonthlyCharges TotalCharges Churn\n",
              "4080        6852  2408-PSJVE   Male  ...            61.9      2924.05    No\n",
              "\n",
              "[1 rows x 22 columns]"
            ]
          },
          "metadata": {
            "tags": []
          },
          "execution_count": 218
        }
      ]
    },
    {
      "cell_type": "markdown",
      "metadata": {
        "id": "gQxzHqXaLYFF"
      },
      "source": [
        "# Exploratory Analysis"
      ]
    },
    {
      "cell_type": "markdown",
      "metadata": {
        "id": "0hEY7ENm3XyT"
      },
      "source": [
        "## Inital look at Churn percentage"
      ]
    },
    {
      "cell_type": "code",
      "metadata": {
        "colab": {
          "base_uri": "https://localhost:8080/"
        },
        "id": "pd09JfGE_YVK",
        "outputId": "65310b0d-855d-43d3-f61a-db7aa39066de"
      },
      "source": [
        "companyA[\"Churn\"].value_counts()"
      ],
      "execution_count": null,
      "outputs": [
        {
          "output_type": "execute_result",
          "data": {
            "text/plain": [
              "No     4389\n",
              "Yes    1587\n",
              "Name: Churn, dtype: int64"
            ]
          },
          "metadata": {
            "tags": []
          },
          "execution_count": 219
        }
      ]
    },
    {
      "cell_type": "code",
      "metadata": {
        "colab": {
          "base_uri": "https://localhost:8080/"
        },
        "id": "z-hjHOb__82B",
        "outputId": "b1df7782-4f9c-4039-c330-e704f8fa45bf"
      },
      "source": [
        "sns.countplot(companyA[\"Churn\"])"
      ],
      "execution_count": null,
      "outputs": [
        {
          "output_type": "execute_result",
          "data": {
            "text/plain": [
              "<matplotlib.axes._subplots.AxesSubplot at 0x7f5a4c70b2d0>"
            ]
          },
          "metadata": {
            "tags": []
          },
          "execution_count": 220
        },
        {
          "output_type": "display_data",
          "data": {
            "image/png": "[encoded data removed]",
            "text/plain": [
              "<Figure size 432x288 with 1 Axes>"
            ]
          },
          "metadata": {
            "tags": [],
            "needs_background": "light"
          }
        }
      ]
    },
    {
      "cell_type": "code",
      "metadata": {
        "colab": {
          "base_uri": "https://localhost:8080/"
        },
        "id": "waOv0KWNAnaV",
        "outputId": "3a6e01e3-afb8-4996-9019-35adf8e28323"
      },
      "source": [
        "num_retained_A = companyA[companyA.Churn == \"No\"].shape[0]\n",
        "num_churned_A = companyA[companyA.Churn == \"Yes\"].shape[0]\n",
        "\n",
        "print( round(num_retained_A/ (num_retained_A + num_churned_A) * 100,2), \"% of people who stayed with company A\")"
      ],
      "execution_count": null,
      "outputs": [
        {
          "output_type": "stream",
          "text": [
            "73.44 % of people who stayed with company A\n"
          ],
          "name": "stdout"
        }
      ]
    },
    {
      "cell_type": "markdown",
      "metadata": {
        "id": "voLZSYPgLc_b"
      },
      "source": [
        "## Feature Engineering"
      ]
    },
    {
      "cell_type": "code",
      "metadata": {
        "id": "MLO-oL3jgvTu",
        "colab": {
          "base_uri": "https://localhost:8080/"
        },
        "outputId": "d2f2b3da-8b95-4cef-dcc4-6909e7438fe3"
      },
      "source": [
        "corr = companyA.corr()\n",
        "plt.figure(figsize=(10,10))\n",
        "sns.heatmap(corr, annot = True, linewidth = 0.5,cmap=\"gist_rainbow\")"
      ],
      "execution_count": null,
      "outputs": [
        {
          "output_type": "execute_result",
          "data": {
            "text/plain": [
              "<matplotlib.axes._subplots.AxesSubplot at 0x7f5a47b5a7d0>"
            ]
          },
          "metadata": {
            "tags": []
          },
          "execution_count": 222
        },
        {
          "output_type": "display_data",
          "data": {
            "image/png": "[encoded data removed]",
            "text/plain": [
              "<Figure size 720x720 with 2 Axes>"
            ]
          },
          "metadata": {
            "tags": [],
            "needs_background": "light"
          }
        }
      ]
    },
    {
      "cell_type": "markdown",
      "metadata": {
        "id": "jPHjMX2Ug2U0"
      },
      "source": [
        "Drop TotalCharges because of multicollinearity"
      ]
    },
    {
      "cell_type": "code",
      "metadata": {
        "id": "i4VGPVOr7mAi"
      },
      "source": [
        "companyA_extra = companyA.copy()"
      ],
      "execution_count": null,
      "outputs": []
    },
    {
      "cell_type": "code",
      "metadata": {
        "id": "esnprEFn7wJq"
      },
      "source": [
        "companyA_extra[\"Extra Packages\"] = 0\n",
        "subset = ['MultipleLines','OnlineSecurity', 'OnlineBackup', 'DeviceProtection',\n",
        "       'TechSupport', 'StreamingTV', 'StreamingMovies'] \n",
        "companyA_extra_subset = companyA_extra[subset]"
      ],
      "execution_count": null,
      "outputs": []
    },
    {
      "cell_type": "code",
      "metadata": {
        "colab": {
          "base_uri": "https://localhost:8080/"
        },
        "id": "QWDRoSPaET-q",
        "outputId": "7470531d-0f06-4455-833b-a232a60ec660"
      },
      "source": [
        "companyA_extra_subset.head()"
      ],
      "execution_count": null,
      "outputs": [
        {
          "output_type": "execute_result",
          "data": {
            "text/html": [
              "<div>\n",
              "<style scoped>\n",
              "    .dataframe tbody tr th:only-of-type {\n",
              "        vertical-align: middle;\n",
              "    }\n",
              "\n",
              "    .dataframe tbody tr th {\n",
              "        vertical-align: top;\n",
              "    }\n",
              "\n",
              "    .dataframe thead th {\n",
              "        text-align: right;\n",
              "    }\n",
              "</style>\n",
              "<table border=\"1\" class=\"dataframe\">\n",
              "  <thead>\n",
              "    <tr style=\"text-align: right;\">\n",
              "      <th></th>\n",
              "      <th>MultipleLines</th>\n",
              "      <th>OnlineSecurity</th>\n",
              "      <th>OnlineBackup</th>\n",
              "      <th>DeviceProtection</th>\n",
              "      <th>TechSupport</th>\n",
              "      <th>StreamingTV</th>\n",
              "      <th>StreamingMovies</th>\n",
              "    </tr>\n",
              "  </thead>\n",
              "  <tbody>\n",
              "    <tr>\n",
              "      <th>0</th>\n",
              "      <td>Yes</td>\n",
              "      <td>No internet service</td>\n",
              "      <td>No internet service</td>\n",
              "      <td>No internet service</td>\n",
              "      <td>No internet service</td>\n",
              "      <td>No internet service</td>\n",
              "      <td>No internet service</td>\n",
              "    </tr>\n",
              "    <tr>\n",
              "      <th>1</th>\n",
              "      <td>No</td>\n",
              "      <td>No</td>\n",
              "      <td>Yes</td>\n",
              "      <td>Yes</td>\n",
              "      <td>No</td>\n",
              "      <td>Yes</td>\n",
              "      <td>No</td>\n",
              "    </tr>\n",
              "    <tr>\n",
              "      <th>2</th>\n",
              "      <td>Yes</td>\n",
              "      <td>No</td>\n",
              "      <td>No</td>\n",
              "      <td>No</td>\n",
              "      <td>No</td>\n",
              "      <td>No</td>\n",
              "      <td>No</td>\n",
              "    </tr>\n",
              "    <tr>\n",
              "      <th>3</th>\n",
              "      <td>No</td>\n",
              "      <td>No</td>\n",
              "      <td>No</td>\n",
              "      <td>No</td>\n",
              "      <td>No</td>\n",
              "      <td>No</td>\n",
              "      <td>Yes</td>\n",
              "    </tr>\n",
              "    <tr>\n",
              "      <th>4</th>\n",
              "      <td>No</td>\n",
              "      <td>Yes</td>\n",
              "      <td>No</td>\n",
              "      <td>Yes</td>\n",
              "      <td>No</td>\n",
              "      <td>No</td>\n",
              "      <td>No</td>\n",
              "    </tr>\n",
              "  </tbody>\n",
              "</table>\n",
              "</div>"
            ],
            "text/plain": [
              "  MultipleLines       OnlineSecurity  ...          StreamingTV      StreamingMovies\n",
              "0           Yes  No internet service  ...  No internet service  No internet service\n",
              "1            No                   No  ...                  Yes                   No\n",
              "2           Yes                   No  ...                   No                   No\n",
              "3            No                   No  ...                   No                  Yes\n",
              "4            No                  Yes  ...                   No                   No\n",
              "\n",
              "[5 rows x 7 columns]"
            ]
          },
          "metadata": {
            "tags": []
          },
          "execution_count": 226
        }
      ]
    },
    {
      "cell_type": "code",
      "metadata": {
        "colab": {
          "base_uri": "https://localhost:8080/"
        },
        "id": "fRJldfm2hL3I",
        "outputId": "7f7e088a-c0ee-4907-df67-436a52a61bb2"
      },
      "source": [
        "fig, axs = plt.subplots(nrows = 3, ncols=3, figsize = (10,10))\n",
        "sns.countplot(x = subset[0], hue = \"Churn\", data = companyA_extra, ax = axs[0,0])\n",
        "sns.countplot(x = subset[1], hue = \"Churn\", data = companyA_extra, ax = axs[0,1])\n",
        "sns.countplot(x = subset[2], hue = \"Churn\", data = companyA_extra, ax = axs[0,2])\n",
        "sns.countplot(x = subset[3], hue = \"Churn\", data = companyA_extra, ax = axs[1,0])\n",
        "sns.countplot(x = subset[4], hue = \"Churn\", data = companyA_extra, ax = axs[1,1])\n",
        "sns.countplot(x = subset[5], hue = \"Churn\", data = companyA_extra, ax = axs[1,2])\n",
        "sns.countplot(x = subset[6], hue = \"Churn\", data = companyA_extra, ax = axs[2,0])"
      ],
      "execution_count": null,
      "outputs": [
        {
          "output_type": "execute_result",
          "data": {
            "text/plain": [
              "<matplotlib.axes._subplots.AxesSubplot at 0x7f5a47698190>"
            ]
          },
          "metadata": {
            "tags": []
          },
          "execution_count": 227
        },
        {
          "output_type": "display_data",
          "data": {
            "image/png": "[encoded data removed]",
            "text/plain": [
              "<Figure size 720x720 with 9 Axes>"
            ]
          },
          "metadata": {
            "tags": [],
            "needs_background": "light"
          }
        }
      ]
    },
    {
      "cell_type": "markdown",
      "metadata": {
        "id": "M3nNL69-iHHO"
      },
      "source": [
        "Can see here that Device protection, Online security, Online Backup and Tech Support have an impact on Churn, so only consider these for \"Extra Packages\""
      ]
    },
    {
      "cell_type": "code",
      "metadata": {
        "id": "-43D9kpoicFW"
      },
      "source": [
        "subset = ['OnlineSecurity', 'OnlineBackup', 'DeviceProtection','TechSupport']\n",
        "companyA_extra_subset = companyA_extra[subset]"
      ],
      "execution_count": null,
      "outputs": []
    },
    {
      "cell_type": "code",
      "metadata": {
        "colab": {
          "base_uri": "https://localhost:8080/"
        },
        "id": "NzII5LH3GwO5",
        "outputId": "266f882e-fef2-4c79-9688-2c5db1023770"
      },
      "source": [
        "fig, axs = plt.subplots(nrows = 2, ncols=2, figsize = (10,10))\n",
        "sns.countplot(x = subset[0], hue = \"Churn\", data = companyA_extra, ax = axs[0,0])\n",
        "sns.countplot(x = subset[1], hue = \"Churn\", data = companyA_extra, ax = axs[0,1])\n",
        "sns.countplot(x = subset[2], hue = \"Churn\", data = companyA_extra, ax = axs[1,0])\n",
        "sns.countplot(x = subset[3], hue = \"Churn\", data = companyA_extra, ax = axs[1,1])"
      ],
      "execution_count": null,
      "outputs": [
        {
          "output_type": "execute_result",
          "data": {
            "text/plain": [
              "<matplotlib.axes._subplots.AxesSubplot at 0x7f5a4e94db10>"
            ]
          },
          "metadata": {
            "tags": []
          },
          "execution_count": 229
        },
        {
          "output_type": "display_data",
          "data": {
            "image/png": "[encoded data removed]",
            "text/plain": [
              "<Figure size 720x720 with 4 Axes>"
            ]
          },
          "metadata": {
            "tags": [],
            "needs_background": "light"
          }
        }
      ]
    },
    {
      "cell_type": "code",
      "metadata": {
        "id": "zEb1G3II7wHP"
      },
      "source": [
        "for i in range(0,len(subset)): \n",
        "  for j in range(0,companyA_extra.shape[0]):\n",
        "    if companyA_extra_subset.iloc[j,i] == \"Yes\":   # This loop goes through each of the selected features, if a customer has that package, their \"Extra Packages\" increases by 1\n",
        "      companyA_extra.iloc[j,22] += 1\n",
        "    else:\n",
        "      continue"
      ],
      "execution_count": null,
      "outputs": []
    },
    {
      "cell_type": "code",
      "metadata": {
        "colab": {
          "base_uri": "https://localhost:8080/"
        },
        "id": "_hXt2ZVSoAkR",
        "outputId": "d5f78728-8a20-4453-8c99-32505c26390d"
      },
      "source": [
        "companyA_extra.head()"
      ],
      "execution_count": null,
      "outputs": [
        {
          "output_type": "execute_result",
          "data": {
            "text/html": [
              "<div>\n",
              "<style scoped>\n",
              "    .dataframe tbody tr th:only-of-type {\n",
              "        vertical-align: middle;\n",
              "    }\n",
              "\n",
              "    .dataframe tbody tr th {\n",
              "        vertical-align: top;\n",
              "    }\n",
              "\n",
              "    .dataframe thead th {\n",
              "        text-align: right;\n",
              "    }\n",
              "</style>\n",
              "<table border=\"1\" class=\"dataframe\">\n",
              "  <thead>\n",
              "    <tr style=\"text-align: right;\">\n",
              "      <th></th>\n",
              "      <th>Unnamed: 0</th>\n",
              "      <th>customerID</th>\n",
              "      <th>gender</th>\n",
              "      <th>SeniorCitizen</th>\n",
              "      <th>Partner</th>\n",
              "      <th>Dependents</th>\n",
              "      <th>tenure</th>\n",
              "      <th>PhoneService</th>\n",
              "      <th>MultipleLines</th>\n",
              "      <th>InternetService</th>\n",
              "      <th>OnlineSecurity</th>\n",
              "      <th>OnlineBackup</th>\n",
              "      <th>DeviceProtection</th>\n",
              "      <th>TechSupport</th>\n",
              "      <th>StreamingTV</th>\n",
              "      <th>StreamingMovies</th>\n",
              "      <th>Contract</th>\n",
              "      <th>PaperlessBilling</th>\n",
              "      <th>PaymentMethod</th>\n",
              "      <th>MonthlyCharges</th>\n",
              "      <th>TotalCharges</th>\n",
              "      <th>Churn</th>\n",
              "      <th>Extra Packages</th>\n",
              "    </tr>\n",
              "  </thead>\n",
              "  <tbody>\n",
              "    <tr>\n",
              "      <th>0</th>\n",
              "      <td>1869</td>\n",
              "      <td>7010-BRBUU</td>\n",
              "      <td>Male</td>\n",
              "      <td>0</td>\n",
              "      <td>Yes</td>\n",
              "      <td>Yes</td>\n",
              "      <td>72</td>\n",
              "      <td>Yes</td>\n",
              "      <td>Yes</td>\n",
              "      <td>No</td>\n",
              "      <td>No internet service</td>\n",
              "      <td>No internet service</td>\n",
              "      <td>No internet service</td>\n",
              "      <td>No internet service</td>\n",
              "      <td>No internet service</td>\n",
              "      <td>No internet service</td>\n",
              "      <td>Two year</td>\n",
              "      <td>No</td>\n",
              "      <td>Credit card (automatic)</td>\n",
              "      <td>24.10</td>\n",
              "      <td>1734.65</td>\n",
              "      <td>No</td>\n",
              "      <td>0</td>\n",
              "    </tr>\n",
              "    <tr>\n",
              "      <th>1</th>\n",
              "      <td>4528</td>\n",
              "      <td>9688-YGXVR</td>\n",
              "      <td>Female</td>\n",
              "      <td>0</td>\n",
              "      <td>No</td>\n",
              "      <td>No</td>\n",
              "      <td>44</td>\n",
              "      <td>Yes</td>\n",
              "      <td>No</td>\n",
              "      <td>Fiber optic</td>\n",
              "      <td>No</td>\n",
              "      <td>Yes</td>\n",
              "      <td>Yes</td>\n",
              "      <td>No</td>\n",
              "      <td>Yes</td>\n",
              "      <td>No</td>\n",
              "      <td>Month-to-month</td>\n",
              "      <td>Yes</td>\n",
              "      <td>Credit card (automatic)</td>\n",
              "      <td>88.15</td>\n",
              "      <td>3973.20</td>\n",
              "      <td>No</td>\n",
              "      <td>2</td>\n",
              "    </tr>\n",
              "    <tr>\n",
              "      <th>2</th>\n",
              "      <td>6344</td>\n",
              "      <td>9286-DOJGF</td>\n",
              "      <td>Female</td>\n",
              "      <td>1</td>\n",
              "      <td>Yes</td>\n",
              "      <td>No</td>\n",
              "      <td>38</td>\n",
              "      <td>Yes</td>\n",
              "      <td>Yes</td>\n",
              "      <td>Fiber optic</td>\n",
              "      <td>No</td>\n",
              "      <td>No</td>\n",
              "      <td>No</td>\n",
              "      <td>No</td>\n",
              "      <td>No</td>\n",
              "      <td>No</td>\n",
              "      <td>Month-to-month</td>\n",
              "      <td>Yes</td>\n",
              "      <td>Bank transfer (automatic)</td>\n",
              "      <td>74.95</td>\n",
              "      <td>2869.85</td>\n",
              "      <td>Yes</td>\n",
              "      <td>0</td>\n",
              "    </tr>\n",
              "    <tr>\n",
              "      <th>3</th>\n",
              "      <td>6739</td>\n",
              "      <td>6994-KERXL</td>\n",
              "      <td>Male</td>\n",
              "      <td>0</td>\n",
              "      <td>No</td>\n",
              "      <td>No</td>\n",
              "      <td>4</td>\n",
              "      <td>Yes</td>\n",
              "      <td>No</td>\n",
              "      <td>DSL</td>\n",
              "      <td>No</td>\n",
              "      <td>No</td>\n",
              "      <td>No</td>\n",
              "      <td>No</td>\n",
              "      <td>No</td>\n",
              "      <td>Yes</td>\n",
              "      <td>Month-to-month</td>\n",
              "      <td>Yes</td>\n",
              "      <td>Electronic check</td>\n",
              "      <td>55.90</td>\n",
              "      <td>238.50</td>\n",
              "      <td>No</td>\n",
              "      <td>0</td>\n",
              "    </tr>\n",
              "    <tr>\n",
              "      <th>4</th>\n",
              "      <td>432</td>\n",
              "      <td>2181-UAESM</td>\n",
              "      <td>Male</td>\n",
              "      <td>0</td>\n",
              "      <td>No</td>\n",
              "      <td>No</td>\n",
              "      <td>2</td>\n",
              "      <td>Yes</td>\n",
              "      <td>No</td>\n",
              "      <td>DSL</td>\n",
              "      <td>Yes</td>\n",
              "      <td>No</td>\n",
              "      <td>Yes</td>\n",
              "      <td>No</td>\n",
              "      <td>No</td>\n",
              "      <td>No</td>\n",
              "      <td>Month-to-month</td>\n",
              "      <td>No</td>\n",
              "      <td>Electronic check</td>\n",
              "      <td>53.45</td>\n",
              "      <td>119.50</td>\n",
              "      <td>No</td>\n",
              "      <td>2</td>\n",
              "    </tr>\n",
              "  </tbody>\n",
              "</table>\n",
              "</div>"
            ],
            "text/plain": [
              "   Unnamed: 0  customerID  gender  ...  TotalCharges Churn Extra Packages\n",
              "0        1869  7010-BRBUU    Male  ...       1734.65    No              0\n",
              "1        4528  9688-YGXVR  Female  ...       3973.20    No              2\n",
              "2        6344  9286-DOJGF  Female  ...       2869.85   Yes              0\n",
              "3        6739  6994-KERXL    Male  ...        238.50    No              0\n",
              "4         432  2181-UAESM    Male  ...        119.50    No              2\n",
              "\n",
              "[5 rows x 23 columns]"
            ]
          },
          "metadata": {
            "tags": []
          },
          "execution_count": 231
        }
      ]
    },
    {
      "cell_type": "markdown",
      "metadata": {
        "id": "dtI8bdzZMedB"
      },
      "source": [
        "## More detailed look at Churn distributions"
      ]
    },
    {
      "cell_type": "code",
      "metadata": {
        "colab": {
          "base_uri": "https://localhost:8080/",
          "height": 714
        },
        "id": "1u7p1I7wL1Zb",
        "outputId": "17e39dad-984d-4cf4-d68d-3d3755e02ffa"
      },
      "source": [
        "fig, axs = plt.subplots(nrows = 3, ncols=3, figsize = (18,12))\n",
        "sns.countplot(x = \"Extra Packages\", hue = \"Churn\", data = companyA_extra, ax = axs[0,0])\n",
        "sns.histplot(x = \"gender\", hue = \"Churn\", data = companyA_extra, stat = \"probability\",multiple=\"dodge\", ax = axs[0,1])\n",
        "sns.histplot(x = \"PaymentMethod\", hue = \"Churn\", data = companyA_extra, stat = \"probability\", multiple=\"dodge\",ax = axs[0,2])\n",
        "axs[0,2].set_xticklabels([\"Credit Card\",\"Bank Transfer\",\"E-Check\",\"Mailed Check\"])\n",
        "sns.histplot(x = \"Partner\", hue = \"Churn\", data = companyA_extra, stat = \"probability\", multiple=\"dodge\",ax = axs[1,0])\n",
        "sns.histplot(x = \"MultipleLines\", hue = \"Churn\", data = companyA_extra, stat = \"probability\", multiple=\"dodge\",ax = axs[1,1])\n",
        "sns.histplot(x = \"PaperlessBilling\", hue = \"Churn\", data = companyA_extra, stat = \"probability\",multiple=\"dodge\", ax = axs[1,2])\n",
        "sns.histplot(x = \"Dependents\", hue = \"Churn\", data = companyA_extra, stat = \"probability\", multiple=\"dodge\",ax = axs[2,0])\n",
        "sns.histplot(x = \"InternetService\", hue = \"Churn\", data = companyA_extra, stat = \"probability\", multiple=\"dodge\",ax = axs[2,1])\n",
        "sns.histplot(x = \"Contract\", hue = \"Churn\", data = companyA_extra, stat = \"probability\",multiple=\"dodge\", ax = axs[2,2])\n",
        "for i in range(0,3):\n",
        "  for j in range(0,3):\n",
        "    if i== 0 and j == 0:\n",
        "      axs[i,j].yaxis.set_major_formatter(mtick.PercentFormatter(10000))\n",
        "    else:\n",
        "      axs[i,j].yaxis.set_major_formatter(mtick.PercentFormatter(1))\n",
        "plt.rcParams[\"patch.force_edgecolor\"] = True"
      ],
      "execution_count": null,
      "outputs": [
        {
          "output_type": "display_data",
          "data": {
            "image/png": "[encoded data removed]",
            "text/plain": [
              "<Figure size 1296x864 with 9 Axes>"
            ]
          },
          "metadata": {
            "tags": [],
            "needs_background": "light"
          }
        }
      ]
    },
    {
      "cell_type": "code",
      "metadata": {
        "id": "WZvI9t0VRfJS"
      },
      "source": [
        "companyA_extra[\"Extra Packages\"] = companyA_extra[\"Extra Packages\"].astype('object')"
      ],
      "execution_count": null,
      "outputs": []
    },
    {
      "cell_type": "code",
      "metadata": {
        "colab": {
          "base_uri": "https://localhost:8080/",
          "height": 283
        },
        "id": "6aVuyHV4KJPg",
        "outputId": "a1db17e8-d9cc-4338-adee-247ab6194606"
      },
      "source": [
        "fig, axs = plt.subplots(nrows = 1, ncols=2, figsize = (10,4))\n",
        "sns.histplot(x = \"Contract\", hue = \"Churn\", data = companyA_extra, stat = \"probability\",multiple=\"dodge\", palette=sns.color_palette(\"hls\",2), ax = axs[0])\n",
        "axs[0].yaxis.set_major_formatter(mtick.PercentFormatter(1))\n",
        "axs[0].set_ylabel(\"Proportion of Customers\",size = 14)\n",
        "axs[0].set_xlabel(\"Contract type\",size = 14)\n",
        "sns.histplot(x = \"Extra Packages\", hue = \"Churn\", data = companyA_extra, stat = \"probability\",multiple=\"dodge\", palette=sns.color_palette(\"hls\",2), binwidth = 0.45, ax = axs[1])\n",
        "axs[1].set_yticklabels(labels = \"\")\n",
        "axs[1].set_ylabel(\"\")\n",
        "axs[1].set_yticks([])\n",
        "axs[1].set_xlabel(\"Total Extra Packages\",size = 14)\n",
        "plt.rcParams[\"patch.force_edgecolor\"] = True"
      ],
      "execution_count": null,
      "outputs": [
        {
          "output_type": "display_data",
          "data": {
            "image/png": "[encoded data removed]",
            "text/plain": [
              "<Figure size 720x288 with 2 Axes>"
            ]
          },
          "metadata": {
            "tags": [],
            "needs_background": "light"
          }
        }
      ]
    },
    {
      "cell_type": "code",
      "metadata": {
        "colab": {
          "base_uri": "https://localhost:8080/"
        },
        "id": "EUiav-5RwfAN",
        "outputId": "e1512443-9071-46b8-82eb-f69f34551fbe"
      },
      "source": [
        "Contract_Proportions = companyA_extra.groupby([\"Churn\",\"Contract\"]).size()\n",
        "print(round(Contract_Proportions[\"Yes\",\"Month-to-month\"]/sum(Contract_Proportions) * 100, 2), \"% of people with a month-to-month contract churned\")"
      ],
      "execution_count": null,
      "outputs": [
        {
          "output_type": "stream",
          "text": [
            "23.39 % of people with a month-to-month contract churned\n"
          ],
          "name": "stdout"
        }
      ]
    },
    {
      "cell_type": "code",
      "metadata": {
        "colab": {
          "base_uri": "https://localhost:8080/"
        },
        "id": "_Ghc48-U5cHW",
        "outputId": "73235dd4-3b66-49fc-fd20-49c3905fc3ec"
      },
      "source": [
        "Contract_Proportions1 = companyA_extra.groupby([\"Churn\",\"Contract\"]).size()\n",
        "print(round(Contract_Proportions1[\"Yes\",\"Two year\"]/sum(Contract_Proportions1) * 100, 2), \"% of people with a 2 year contract churned\")"
      ],
      "execution_count": null,
      "outputs": [
        {
          "output_type": "stream",
          "text": [
            "0.69 % of people with a 2 year contract churned\n"
          ],
          "name": "stdout"
        }
      ]
    },
    {
      "cell_type": "code",
      "metadata": {
        "colab": {
          "base_uri": "https://localhost:8080/"
        },
        "id": "ZNWk_QU96eeP",
        "outputId": "df367916-c2ed-46cb-f95f-2dd2d3d3df11"
      },
      "source": [
        "Extra_Packages_Proportions = companyA_extra.groupby([\"Churn\",\"Extra Packages\"]).size()\n",
        "print(round(Extra_Packages_Proportions[\"Yes\",0]/sum(Extra_Packages_Proportions) * 100, 2), \"% of people with no extra packages churned\")"
      ],
      "execution_count": null,
      "outputs": [
        {
          "output_type": "stream",
          "text": [
            "11.93 % of people with no extra packages churned\n"
          ],
          "name": "stdout"
        }
      ]
    },
    {
      "cell_type": "code",
      "metadata": {
        "colab": {
          "base_uri": "https://localhost:8080/"
        },
        "id": "0ab7TCxE7HWe",
        "outputId": "6ce3763e-dd79-4243-8809-d76f8103044a"
      },
      "source": [
        "Extra_Packages_Proportions1 = companyA_extra.groupby([\"Churn\",\"Extra Packages\"]).size()\n",
        "print(round(Extra_Packages_Proportions1[\"Yes\",4]/sum(Extra_Packages_Proportions1) * 100, 2), \"% of people with four extra packages churned\")"
      ],
      "execution_count": null,
      "outputs": [
        {
          "output_type": "stream",
          "text": [
            "0.37 % of people with four extra packages churned\n"
          ],
          "name": "stdout"
        }
      ]
    },
    {
      "cell_type": "code",
      "metadata": {
        "colab": {
          "base_uri": "https://localhost:8080/",
          "height": 554
        },
        "id": "dSMTOGNDlcnK",
        "outputId": "14fb22dd-78ba-4355-a92b-c4e75be3a690"
      },
      "source": [
        "fig, axs = plt.subplots(nrows = 2, ncols=1, figsize = (12,8))\n",
        "sns.histplot(x = 'tenure', hue = 'Churn',data = companyA_extra, stat = \"probability\", palette=sns.color_palette(\"husl\",2), multiple='stack', ax = axs[0])\n",
        "axs[0].yaxis.set_major_formatter(mtick.PercentFormatter(1))\n",
        "axs[0].set_title(\"Distribution of Tenure and Monthly Charges, \\n Seperated by Churn classes\",size = 16)\n",
        "axs[0].set_xlabel(\"Tenure (Months)\", fontsize= 16)\n",
        "axs[0].set_ylabel(\"Probability\", fontsize= 16)\n",
        "sns.histplot(x = 'MonthlyCharges', hue = 'Churn', stat = \"probability\",data = companyA_extra, palette=sns.color_palette(\"husl\",2),multiple='stack', ax = axs[1])\n",
        "axs[1].yaxis.set_major_formatter(mtick.PercentFormatter(1))\n",
        "axs[1].set_xlabel(\"Monthly Charges (£)\", fontsize= 16)\n",
        "axs[1].set_ylabel(\"Probability\", fontsize= 16)"
      ],
      "execution_count": null,
      "outputs": [
        {
          "output_type": "execute_result",
          "data": {
            "text/plain": [
              "Text(0, 0.5, 'Probability')"
            ]
          },
          "metadata": {
            "tags": []
          },
          "execution_count": 26
        },
        {
          "output_type": "display_data",
          "data": {
            "image/png": "[encoded data removed]",
            "text/plain": [
              "<Figure size 864x576 with 2 Axes>"
            ]
          },
          "metadata": {
            "tags": [],
            "needs_background": "light"
          }
        }
      ]
    },
    {
      "cell_type": "markdown",
      "metadata": {
        "id": "hd2BG6-MMIvw"
      },
      "source": [
        "From this is seems that Higher monthly charges lead to people churning. \n",
        "Then Short tenures also lead to people leaving, \n",
        "a higher churn percentage among low total charges could indicate the same thing as tenure, that people who have short contracts are more likely to leave. \n",
        "\n",
        "might be a good idea to further segment this into the three contract types"
      ]
    },
    {
      "cell_type": "markdown",
      "metadata": {
        "id": "9KpUv9xqq8cC"
      },
      "source": [
        "## One Hot Encode Categorical variables"
      ]
    },
    {
      "cell_type": "code",
      "metadata": {
        "id": "3fWGd2jLoHWO"
      },
      "source": [
        "companyA_model_data = companyA_extra[[\"PaymentMethod\",\"Partner\",\"PaperlessBilling\",'Dependents','Contract',\"Extra Packages\",'MonthlyCharges',\"tenure\",\"Churn\"]]"
      ],
      "execution_count": null,
      "outputs": []
    },
    {
      "cell_type": "code",
      "metadata": {
        "colab": {
          "base_uri": "https://localhost:8080/",
          "height": 204
        },
        "id": "vN8x4gpcrHj4",
        "outputId": "9cb3e4ce-0d69-4625-8088-7a56462ec34a"
      },
      "source": [
        "companyA_model_data.head()"
      ],
      "execution_count": null,
      "outputs": [
        {
          "output_type": "execute_result",
          "data": {
            "text/html": [
              "<div>\n",
              "<style scoped>\n",
              "    .dataframe tbody tr th:only-of-type {\n",
              "        vertical-align: middle;\n",
              "    }\n",
              "\n",
              "    .dataframe tbody tr th {\n",
              "        vertical-align: top;\n",
              "    }\n",
              "\n",
              "    .dataframe thead th {\n",
              "        text-align: right;\n",
              "    }\n",
              "</style>\n",
              "<table border=\"1\" class=\"dataframe\">\n",
              "  <thead>\n",
              "    <tr style=\"text-align: right;\">\n",
              "      <th></th>\n",
              "      <th>PaymentMethod</th>\n",
              "      <th>Partner</th>\n",
              "      <th>PaperlessBilling</th>\n",
              "      <th>Dependents</th>\n",
              "      <th>Contract</th>\n",
              "      <th>Extra Packages</th>\n",
              "      <th>MonthlyCharges</th>\n",
              "      <th>tenure</th>\n",
              "      <th>Churn</th>\n",
              "    </tr>\n",
              "  </thead>\n",
              "  <tbody>\n",
              "    <tr>\n",
              "      <th>0</th>\n",
              "      <td>Credit card (automatic)</td>\n",
              "      <td>Yes</td>\n",
              "      <td>No</td>\n",
              "      <td>Yes</td>\n",
              "      <td>Two year</td>\n",
              "      <td>0</td>\n",
              "      <td>24.10</td>\n",
              "      <td>72</td>\n",
              "      <td>No</td>\n",
              "    </tr>\n",
              "    <tr>\n",
              "      <th>1</th>\n",
              "      <td>Credit card (automatic)</td>\n",
              "      <td>No</td>\n",
              "      <td>Yes</td>\n",
              "      <td>No</td>\n",
              "      <td>Month-to-month</td>\n",
              "      <td>2</td>\n",
              "      <td>88.15</td>\n",
              "      <td>44</td>\n",
              "      <td>No</td>\n",
              "    </tr>\n",
              "    <tr>\n",
              "      <th>2</th>\n",
              "      <td>Bank transfer (automatic)</td>\n",
              "      <td>Yes</td>\n",
              "      <td>Yes</td>\n",
              "      <td>No</td>\n",
              "      <td>Month-to-month</td>\n",
              "      <td>0</td>\n",
              "      <td>74.95</td>\n",
              "      <td>38</td>\n",
              "      <td>Yes</td>\n",
              "    </tr>\n",
              "    <tr>\n",
              "      <th>3</th>\n",
              "      <td>Electronic check</td>\n",
              "      <td>No</td>\n",
              "      <td>Yes</td>\n",
              "      <td>No</td>\n",
              "      <td>Month-to-month</td>\n",
              "      <td>0</td>\n",
              "      <td>55.90</td>\n",
              "      <td>4</td>\n",
              "      <td>No</td>\n",
              "    </tr>\n",
              "    <tr>\n",
              "      <th>4</th>\n",
              "      <td>Electronic check</td>\n",
              "      <td>No</td>\n",
              "      <td>No</td>\n",
              "      <td>No</td>\n",
              "      <td>Month-to-month</td>\n",
              "      <td>2</td>\n",
              "      <td>53.45</td>\n",
              "      <td>2</td>\n",
              "      <td>No</td>\n",
              "    </tr>\n",
              "  </tbody>\n",
              "</table>\n",
              "</div>"
            ],
            "text/plain": [
              "               PaymentMethod Partner  ... tenure Churn\n",
              "0    Credit card (automatic)     Yes  ...     72    No\n",
              "1    Credit card (automatic)      No  ...     44    No\n",
              "2  Bank transfer (automatic)     Yes  ...     38   Yes\n",
              "3           Electronic check      No  ...      4    No\n",
              "4           Electronic check      No  ...      2    No\n",
              "\n",
              "[5 rows x 9 columns]"
            ]
          },
          "metadata": {
            "tags": []
          },
          "execution_count": 304
        }
      ]
    },
    {
      "cell_type": "code",
      "metadata": {
        "id": "ONuuuqiYqI4c"
      },
      "source": [
        "payment_cat = companyA_model_data[[\"PaymentMethod\"]]\n",
        "ordinal_encoder = OrdinalEncoder()\n",
        "payment_cat_encoded = ordinal_encoder.fit_transform(payment_cat)\n",
        "cat_encoder = OneHotEncoder()\n",
        "payment_cat_1hot = cat_encoder.fit_transform(payment_cat)\n",
        "payment_categories = ordinal_encoder.categories_\n",
        "payment_cat_1hot.toarray()\n",
        "cat_encoder = OneHotEncoder(sparse=False)\n",
        "payment_cat_1hot = cat_encoder.fit_transform(payment_cat)\n",
        "payment_cat_1hot\n",
        "enc_data = pd.DataFrame(payment_cat_1hot)\n",
        "enc_data.columns = payment_categories[0]\n",
        "enc_data.index = companyA_model_data.index\n",
        "encode_payment = pd.concat([companyA_model_data, enc_data], axis =1, ignore_index = False)\n",
        "encode_payment.drop(columns=['PaymentMethod'], inplace = True)\n",
        "encode_payment.drop(columns=['Credit card (automatic)'], inplace = True)"
      ],
      "execution_count": null,
      "outputs": []
    },
    {
      "cell_type": "code",
      "metadata": {
        "id": "G2FQUYZ8qI4c"
      },
      "source": [
        "contract_cat = companyA_model_data[[\"Contract\"]]\n",
        "ordinal_encoder = OrdinalEncoder()\n",
        "contract_cat_encoded = ordinal_encoder.fit_transform(contract_cat)\n",
        "cat_encoder = OneHotEncoder()\n",
        "contract_cat_1hot = cat_encoder.fit_transform(contract_cat)\n",
        "contract_categories = ordinal_encoder.categories_\n",
        "contract_cat_1hot.toarray()\n",
        "cat_encoder = OneHotEncoder(sparse=False)\n",
        "contract_cat_1hot = cat_encoder.fit_transform(contract_cat)\n",
        "contract_cat_1hot\n",
        "enc_data = pd.DataFrame(contract_cat_1hot)\n",
        "enc_data.columns = contract_categories[0]\n",
        "enc_data.index = encode_payment.index\n",
        "encode_contract = pd.concat([encode_payment, enc_data], axis =1, ignore_index = False)\n",
        "encode_contract .drop(columns=['Contract'], inplace = True)\n",
        "encode_contract .drop(columns=['One year'], inplace = True)"
      ],
      "execution_count": null,
      "outputs": []
    },
    {
      "cell_type": "code",
      "metadata": {
        "id": "LopsSqIOoPoP"
      },
      "source": [
        "for column in encode_contract.columns:          # This loop is to convert all binary categorical columns into 1/0 columns (quicker than OHC each column)\n",
        "  if encode_contract[column].dtype == np.object:\n",
        "    encode_contract[column] = LabelEncoder().fit_transform(encode_contract[column]) \n",
        "  else:\n",
        "    continue"
      ],
      "execution_count": null,
      "outputs": []
    },
    {
      "cell_type": "code",
      "metadata": {
        "colab": {
          "base_uri": "https://localhost:8080/",
          "height": 204
        },
        "id": "omjkjw3yr3Pj",
        "outputId": "c5262786-bf90-46c0-cab0-0a45450c79a8"
      },
      "source": [
        "encode_contract.head()"
      ],
      "execution_count": null,
      "outputs": [
        {
          "output_type": "execute_result",
          "data": {
            "text/html": [
              "<div>\n",
              "<style scoped>\n",
              "    .dataframe tbody tr th:only-of-type {\n",
              "        vertical-align: middle;\n",
              "    }\n",
              "\n",
              "    .dataframe tbody tr th {\n",
              "        vertical-align: top;\n",
              "    }\n",
              "\n",
              "    .dataframe thead th {\n",
              "        text-align: right;\n",
              "    }\n",
              "</style>\n",
              "<table border=\"1\" class=\"dataframe\">\n",
              "  <thead>\n",
              "    <tr style=\"text-align: right;\">\n",
              "      <th></th>\n",
              "      <th>Partner</th>\n",
              "      <th>PaperlessBilling</th>\n",
              "      <th>Dependents</th>\n",
              "      <th>Extra Packages</th>\n",
              "      <th>MonthlyCharges</th>\n",
              "      <th>tenure</th>\n",
              "      <th>Churn</th>\n",
              "      <th>Bank transfer (automatic)</th>\n",
              "      <th>Electronic check</th>\n",
              "      <th>Mailed check</th>\n",
              "      <th>Month-to-month</th>\n",
              "      <th>Two year</th>\n",
              "    </tr>\n",
              "  </thead>\n",
              "  <tbody>\n",
              "    <tr>\n",
              "      <th>0</th>\n",
              "      <td>1</td>\n",
              "      <td>0</td>\n",
              "      <td>1</td>\n",
              "      <td>0</td>\n",
              "      <td>24.10</td>\n",
              "      <td>72</td>\n",
              "      <td>0</td>\n",
              "      <td>0.0</td>\n",
              "      <td>0.0</td>\n",
              "      <td>0.0</td>\n",
              "      <td>0.0</td>\n",
              "      <td>1.0</td>\n",
              "    </tr>\n",
              "    <tr>\n",
              "      <th>1</th>\n",
              "      <td>0</td>\n",
              "      <td>1</td>\n",
              "      <td>0</td>\n",
              "      <td>2</td>\n",
              "      <td>88.15</td>\n",
              "      <td>44</td>\n",
              "      <td>0</td>\n",
              "      <td>0.0</td>\n",
              "      <td>0.0</td>\n",
              "      <td>0.0</td>\n",
              "      <td>1.0</td>\n",
              "      <td>0.0</td>\n",
              "    </tr>\n",
              "    <tr>\n",
              "      <th>2</th>\n",
              "      <td>1</td>\n",
              "      <td>1</td>\n",
              "      <td>0</td>\n",
              "      <td>0</td>\n",
              "      <td>74.95</td>\n",
              "      <td>38</td>\n",
              "      <td>1</td>\n",
              "      <td>1.0</td>\n",
              "      <td>0.0</td>\n",
              "      <td>0.0</td>\n",
              "      <td>1.0</td>\n",
              "      <td>0.0</td>\n",
              "    </tr>\n",
              "    <tr>\n",
              "      <th>3</th>\n",
              "      <td>0</td>\n",
              "      <td>1</td>\n",
              "      <td>0</td>\n",
              "      <td>0</td>\n",
              "      <td>55.90</td>\n",
              "      <td>4</td>\n",
              "      <td>0</td>\n",
              "      <td>0.0</td>\n",
              "      <td>1.0</td>\n",
              "      <td>0.0</td>\n",
              "      <td>1.0</td>\n",
              "      <td>0.0</td>\n",
              "    </tr>\n",
              "    <tr>\n",
              "      <th>4</th>\n",
              "      <td>0</td>\n",
              "      <td>0</td>\n",
              "      <td>0</td>\n",
              "      <td>2</td>\n",
              "      <td>53.45</td>\n",
              "      <td>2</td>\n",
              "      <td>0</td>\n",
              "      <td>0.0</td>\n",
              "      <td>1.0</td>\n",
              "      <td>0.0</td>\n",
              "      <td>1.0</td>\n",
              "      <td>0.0</td>\n",
              "    </tr>\n",
              "  </tbody>\n",
              "</table>\n",
              "</div>"
            ],
            "text/plain": [
              "   Partner  PaperlessBilling  ...  Month-to-month  Two year\n",
              "0        1                 0  ...             0.0       1.0\n",
              "1        0                 1  ...             1.0       0.0\n",
              "2        1                 1  ...             1.0       0.0\n",
              "3        0                 1  ...             1.0       0.0\n",
              "4        0                 0  ...             1.0       0.0\n",
              "\n",
              "[5 rows x 12 columns]"
            ]
          },
          "metadata": {
            "tags": []
          },
          "execution_count": 308
        }
      ]
    },
    {
      "cell_type": "code",
      "metadata": {
        "id": "6cLaFuB0oTk5"
      },
      "source": [
        "companyA_x = encode_contract.drop(\"Churn\",axis = 1) # Creates features set \n",
        "companyA_y = encode_contract[\"Churn\"] # Labels set - i.e. thing we are predicting\n",
        "companyA_x = StandardScaler().fit_transform(companyA_x) # Scales features data \n",
        "train_x, test_x, train_y, test_y = train_test_split(companyA_x, companyA_y,random_state = 42) # splits into training/test sets"
      ],
      "execution_count": null,
      "outputs": []
    },
    {
      "cell_type": "markdown",
      "metadata": {
        "id": "AUEPmRnQcdM_"
      },
      "source": [
        "# Building a model"
      ]
    },
    {
      "cell_type": "markdown",
      "metadata": {
        "id": "s16TwLVigAKu"
      },
      "source": [
        "## Random Forest"
      ]
    },
    {
      "cell_type": "code",
      "metadata": {
        "id": "6Lw4Aexg-G5O",
        "colab": {
          "base_uri": "https://localhost:8080/"
        },
        "outputId": "9783b104-3d56-4ac7-c8b3-abd72f118cea"
      },
      "source": [
        "# Conduct grid search to fine tune hyperparameters \n",
        "\n",
        "rand_for= RandomForestClassifier()\n",
        "param_grid_forest = [{\"n_estimators\":[300],\"max_depth\":[5,10],'min_samples_split': [5,6,7],\"class_weight\": [{0:1, 1:2},{0:1, 1:5},{0:1, 1:3}]}]\n",
        "grid_search = GridSearchCV(rand_for,param_grid_forest,cv= 5, scoring = \"f1\")\n",
        "grid_search.fit(train_x,train_y)\n",
        "grid_search.best_params_"
      ],
      "execution_count": null,
      "outputs": [
        {
          "output_type": "execute_result",
          "data": {
            "text/plain": [
              "{'class_weight': {0: 1, 1: 2},\n",
              " 'max_depth': 5,\n",
              " 'min_samples_split': 6,\n",
              " 'n_estimators': 300}"
            ]
          },
          "metadata": {
            "tags": []
          },
          "execution_count": 113
        }
      ]
    },
    {
      "cell_type": "code",
      "metadata": {
        "id": "joXpc98wmCc_"
      },
      "source": [
        "# Grid search says that to maximise f1, utilise these hyperparameters. \n",
        "# But let's use this loop to test these hyperparameters with multiple class weights.  \n",
        "\n",
        "#Set class weights\n",
        "test_acc_master = []\n",
        "test_recall_master = []\n",
        "test_prec_master = []\n",
        "\n",
        "for x in range(1,6):\n",
        "    class_weight = {0: 1.,\n",
        "                    1: x }\n",
        "\n",
        "    #Create model and make predictions. \n",
        "    rand_for = RandomForestClassifier(max_depth=5,min_samples_split=7,n_estimators=300,class_weight={0:1, 1:x})\n",
        "    rand_for.fit(train_x,train_y)\n",
        "    rand_for_predictions = rand_for.predict(test_x)\n",
        "    \n",
        "    \n",
        "    test_acc = accuracy_score(test_y , np.rint(rand_for_predictions))*100\n",
        "    test_recall = recall_score(test_y , np.rint(rand_for_predictions))*100\n",
        "    test_prec = precision_score(test_y , np.rint(rand_for_predictions))*100\n",
        "\n",
        "    test_acc_master.append(test_acc)\n",
        "    test_recall_master.append(test_recall)\n",
        "    test_prec_master.append(test_prec)"
      ],
      "execution_count": null,
      "outputs": []
    },
    {
      "cell_type": "code",
      "metadata": {
        "colab": {
          "base_uri": "https://localhost:8080/"
        },
        "id": "txhps-SgmCdF",
        "outputId": "0b99b773-3e57-4e03-d638-1176f2a6eb91"
      },
      "source": [
        "for i in range(1, len(test_acc_master)+1):\n",
        "    x=i-1\n",
        "    print('1:' +str(i) +' Test Accuracy = ' + str(test_acc_master[x]))\n",
        "    print('1:' +str(i) +' Test Recall = ' + str(test_recall_master[x]))\n",
        "    print('1:' +str(i) +' Test Precision = ' + str(test_prec_master[x]))\n",
        "    print('')\n",
        "    print('')\n",
        "print(' Can see a final jump in Recall when weights are set to 0:1, 1:3 after that improvements become marginal')"
      ],
      "execution_count": null,
      "outputs": [
        {
          "output_type": "stream",
          "text": [
            "1:1 Test Accuracy = 78.98259705488621\n",
            "1:1 Test Recall = 37.878787878787875\n",
            "1:1 Test Precision = 68.80733944954129\n",
            "\n",
            "\n",
            "1:2 Test Accuracy = 75.0334672021419\n",
            "1:2 Test Recall = 76.26262626262627\n",
            "1:2 Test Precision = 51.97934595524957\n",
            "\n",
            "\n",
            "1:3 Test Accuracy = 69.21017402945114\n",
            "1:3 Test Recall = 86.11111111111111\n",
            "1:3 Test Precision = 45.71045576407507\n",
            "\n",
            "\n",
            "1:4 Test Accuracy = 65.72958500669344\n",
            "1:4 Test Recall = 89.14141414141415\n",
            "1:4 Test Precision = 42.94403892944039\n",
            "\n",
            "\n",
            "1:5 Test Accuracy = 63.45381526104418\n",
            "1:5 Test Recall = 90.9090909090909\n",
            "1:5 Test Precision = 41.37931034482759\n",
            "\n",
            "\n",
            " Can see a final jump in Recall when weights are set to 0:1, 1:3 after that improvements become marginal\n"
          ],
          "name": "stdout"
        }
      ]
    },
    {
      "cell_type": "markdown",
      "metadata": {
        "id": "BauIMtaYZPlW"
      },
      "source": [
        "## Implementing SMOTE"
      ]
    },
    {
      "cell_type": "markdown",
      "metadata": {
        "id": "38ssPIJHzcAz"
      },
      "source": [
        "### Resample and prep the data"
      ]
    },
    {
      "cell_type": "code",
      "metadata": {
        "id": "-TPz8FI6rpVw"
      },
      "source": [
        "import warnings\n",
        "warnings.filterwarnings(\"ignore\", message=\"is deprecated \")"
      ],
      "execution_count": null,
      "outputs": []
    },
    {
      "cell_type": "code",
      "metadata": {
        "id": "7TOfDr0sg2qs",
        "colab": {
          "base_uri": "https://localhost:8080/"
        },
        "outputId": "309442f0-f4cc-467d-9b77-d6fe0e78d59c"
      },
      "source": [
        "smote_data = companyA_model_data.copy()\n",
        "x = smote_data.drop(\"Churn\",axis = 1)\n",
        "y = smote_data[\"Churn\"].map({'No':0, 'Yes':1})\n",
        "print('Original dataset shape %s' % Counter(y))"
      ],
      "execution_count": null,
      "outputs": [
        {
          "output_type": "stream",
          "text": [
            "Original dataset shape Counter({0: 4389, 1: 1587})\n"
          ],
          "name": "stdout"
        }
      ]
    },
    {
      "cell_type": "code",
      "metadata": {
        "id": "CPb8D4BDg2i8"
      },
      "source": [
        "sm = SMOTENC(random_state=42,sampling_strategy={0: 4389, 1: (1587*2)}, categorical_features =[0,1,2,3,4,5]) # Oversample Churners so we artificially get twice as many. \n",
        "x_res, y_res = sm.fit_resample(x, y)"
      ],
      "execution_count": null,
      "outputs": []
    },
    {
      "cell_type": "code",
      "metadata": {
        "colab": {
          "base_uri": "https://localhost:8080/"
        },
        "id": "ZOuHxN0TsP2k",
        "outputId": "c2bdc743-2f3d-4db0-c8ad-e9f7fa6c5751"
      },
      "source": [
        "print('Resampled dataset shape %s' % Counter(y_res)) # This only works though if there are trends in how people churn. "
      ],
      "execution_count": null,
      "outputs": [
        {
          "output_type": "stream",
          "text": [
            "Resampled dataset shape Counter({0: 4389, 1: 3174})\n"
          ],
          "name": "stdout"
        }
      ]
    },
    {
      "cell_type": "code",
      "metadata": {
        "id": "ChYx6qb0K9zC"
      },
      "source": [
        "x_res = pd.DataFrame(x_res,columns = x.columns)"
      ],
      "execution_count": null,
      "outputs": []
    },
    {
      "cell_type": "markdown",
      "metadata": {
        "id": "Ze7mOasvJ35v"
      },
      "source": [
        "#### Convert Categorical Features and scale data"
      ]
    },
    {
      "cell_type": "code",
      "metadata": {
        "id": "iRkyNKugKru3"
      },
      "source": [
        "payment_cat = x_res[[\"PaymentMethod\"]]\n",
        "ordinal_encoder = OrdinalEncoder()\n",
        "payment_cat_encoded = ordinal_encoder.fit_transform(payment_cat)\n",
        "cat_encoder = OneHotEncoder()\n",
        "payment_cat_1hot = cat_encoder.fit_transform(payment_cat)\n",
        "payment_categories = ordinal_encoder.categories_\n",
        "payment_cat_1hot.toarray()\n",
        "cat_encoder = OneHotEncoder(sparse=False)\n",
        "payment_cat_1hot = cat_encoder.fit_transform(payment_cat)\n",
        "payment_cat_1hot\n",
        "enc_data = pd.DataFrame(payment_cat_1hot)\n",
        "enc_data.columns = payment_categories[0]\n",
        "enc_data.index = x_res.index\n",
        "encode_payment = pd.concat([x_res, enc_data], axis =1, ignore_index = False)\n",
        "encode_payment.drop(columns=['PaymentMethod'], inplace = True)\n",
        "encode_payment.drop(columns=['Credit card (automatic)'], inplace = True)"
      ],
      "execution_count": null,
      "outputs": []
    },
    {
      "cell_type": "code",
      "metadata": {
        "id": "vEptVl_RKBaH"
      },
      "source": [
        "contract_cat = x_res[[\"Contract\"]]\n",
        "ordinal_encoder = OrdinalEncoder()\n",
        "contract_cat_encoded = ordinal_encoder.fit_transform(contract_cat)\n",
        "cat_encoder = OneHotEncoder()\n",
        "contract_cat_1hot = cat_encoder.fit_transform(contract_cat)\n",
        "contract_categories = ordinal_encoder.categories_\n",
        "contract_cat_1hot.toarray()\n",
        "cat_encoder = OneHotEncoder(sparse=False)\n",
        "contract_cat_1hot = cat_encoder.fit_transform(contract_cat)\n",
        "contract_cat_1hot\n",
        "enc_data = pd.DataFrame(contract_cat_1hot)\n",
        "enc_data.columns = contract_categories[0]\n",
        "enc_data.index = encode_payment.index\n",
        "encode_contract = pd.concat([encode_payment, enc_data], axis =1, ignore_index = False)\n",
        "encode_contract .drop(columns=['Contract'], inplace = True)\n",
        "encode_contract .drop(columns=['One year'], inplace = True)"
      ],
      "execution_count": null,
      "outputs": []
    },
    {
      "cell_type": "code",
      "metadata": {
        "id": "FEQK542jKBaP"
      },
      "source": [
        "for column in encode_contract.columns:\n",
        "  if encode_contract[column].dtype == np.object:\n",
        "    encode_contract[column] = LabelEncoder().fit_transform(encode_contract[column])\n",
        "  else:\n",
        "    continue"
      ],
      "execution_count": null,
      "outputs": []
    },
    {
      "cell_type": "code",
      "metadata": {
        "id": "5v0WXkyXh9C7"
      },
      "source": [
        "feature_importance_columns = encode_contract.columns \n",
        "encode_contract = StandardScaler().fit_transform(encode_contract)\n",
        "x_train_res, x_test_res, y_train_res,y_test_res = train_test_split(encode_contract, y_res, random_state = 42)"
      ],
      "execution_count": null,
      "outputs": []
    },
    {
      "cell_type": "markdown",
      "metadata": {
        "id": "f36Zd7gNzisP"
      },
      "source": [
        "### Build a Random forest model with resampled data"
      ]
    },
    {
      "cell_type": "code",
      "metadata": {
        "colab": {
          "base_uri": "https://localhost:8080/"
        },
        "id": "wo6TF2MrzH4d",
        "outputId": "e235c871-4301-4a81-a80a-99726c99d659"
      },
      "source": [
        "rand_for= RandomForestClassifier() # Grid Search for finding best params\n",
        "param_grid_forest = [{\"n_estimators\":[100],\"max_depth\":[5,7,10],'min_samples_split': [5,6,7],\"class_weight\": [{0:1, 1:2}]}]\n",
        "grid_search = GridSearchCV(rand_for,param_grid_forest,cv= 5, scoring = \"f1\")\n",
        "grid_search.fit(x_train_res,y_train_res)\n",
        "grid_search.best_params_"
      ],
      "execution_count": null,
      "outputs": [
        {
          "output_type": "execute_result",
          "data": {
            "text/plain": [
              "{'class_weight': {0: 1, 1: 2},\n",
              " 'max_depth': 10,\n",
              " 'min_samples_split': 6,\n",
              " 'n_estimators': 100}"
            ]
          },
          "metadata": {
            "tags": []
          },
          "execution_count": 185
        }
      ]
    },
    {
      "cell_type": "code",
      "metadata": {
        "id": "uAV0nAs8gwTC"
      },
      "source": [
        "#Set class weights\n",
        "test_acc_master = []\n",
        "test_recall_master = []\n",
        "test_prec_master = []\n",
        "\n",
        "for x in range(1,6):\n",
        "    class_weight = {0: 1.,\n",
        "                    1: x }\n",
        "\n",
        "    #Create model and make predictions. \n",
        "    rand_for_smote = RandomForestClassifier(max_depth=10,min_samples_split=6,n_estimators=100,class_weight={0:1, 1:x})\n",
        "    rand_for_smote.fit(x_train_res,y_train_res)\n",
        "    rand_for_predictions_smote = rand_for_smote.predict(x_test_res)\n",
        "    \n",
        "    \n",
        "    test_acc = accuracy_score(y_test_res , np.rint(rand_for_predictions_smote))*100\n",
        "    test_recall = recall_score(y_test_res , np.rint(rand_for_predictions_smote))*100\n",
        "    test_prec = precision_score(y_test_res , np.rint(rand_for_predictions_smote))*100\n",
        "\n",
        "    test_acc_master.append(test_acc)\n",
        "    test_recall_master.append(test_recall)\n",
        "    test_prec_master.append(test_prec)"
      ],
      "execution_count": null,
      "outputs": []
    },
    {
      "cell_type": "code",
      "metadata": {
        "colab": {
          "base_uri": "https://localhost:8080/"
        },
        "id": "Lhqk6BbllBkO",
        "outputId": "1bf8b3b4-c327-40c7-cfde-391748c22952"
      },
      "source": [
        "for i in range(1, len(test_acc_master)+1):\n",
        "    x=i-1\n",
        "    print('1:' +str(i) +' Test Accuracy = ' + str(test_acc_master[x]))\n",
        "    print('1:' +str(i) +' Test Recall = ' + str(test_recall_master[x]))\n",
        "    print('1:' +str(i) +' Test Precision = ' + str(test_prec_master[x]))\n",
        "    print('')\n",
        "    print('')"
      ],
      "execution_count": null,
      "outputs": [
        {
          "output_type": "stream",
          "text": [
            "1:1 Test Accuracy = 77.94817556848228\n",
            "1:1 Test Recall = 76.77664974619289\n",
            "1:1 Test Precision = 72.10965435041716\n",
            "\n",
            "\n",
            "1:2 Test Accuracy = 77.57800105764146\n",
            "1:2 Test Recall = 88.07106598984772\n",
            "1:2 Test Precision = 67.7734375\n",
            "\n",
            "\n",
            "1:3 Test Accuracy = 76.09730301427817\n",
            "1:3 Test Recall = 91.37055837563452\n",
            "1:3 Test Precision = 65.21739130434783\n",
            "\n",
            "\n",
            "1:4 Test Accuracy = 75.03966155473294\n",
            "1:4 Test Recall = 92.00507614213198\n",
            "1:4 Test Precision = 63.93298059964727\n",
            "\n",
            "\n",
            "1:5 Test Accuracy = 74.45795875198307\n",
            "1:5 Test Recall = 93.52791878172589\n",
            "1:5 Test Precision = 63.045337895637296\n",
            "\n",
            "\n"
          ],
          "name": "stdout"
        }
      ]
    },
    {
      "cell_type": "markdown",
      "metadata": {
        "id": "EEcCdAWhVNm6"
      },
      "source": [
        "#### Extracting and plotting Feature Importance"
      ]
    },
    {
      "cell_type": "code",
      "metadata": {
        "colab": {
          "base_uri": "https://localhost:8080/"
        },
        "id": "_DBozmWBt_Ll",
        "outputId": "b1c46dbd-d133-447b-af70-6ecea2f72e8d"
      },
      "source": [
        "# Looking through that loop, the last real jump in Recall is where Churners are weighted twice as heavily. So use this weight for final model. \n",
        "rand_for_smote = RandomForestClassifier(max_depth=10,min_samples_split=6,n_estimators=100,class_weight={0:1, 1:2})\n",
        "rand_for_smote.fit(x_train_res,y_train_res)"
      ],
      "execution_count": null,
      "outputs": [
        {
          "output_type": "execute_result",
          "data": {
            "text/plain": [
              "RandomForestClassifier(bootstrap=True, ccp_alpha=0.0, class_weight={0: 1, 1: 2},\n",
              "                       criterion='gini', max_depth=10, max_features='auto',\n",
              "                       max_leaf_nodes=None, max_samples=None,\n",
              "                       min_impurity_decrease=0.0, min_impurity_split=None,\n",
              "                       min_samples_leaf=1, min_samples_split=6,\n",
              "                       min_weight_fraction_leaf=0.0, n_estimators=100,\n",
              "                       n_jobs=None, oob_score=False, random_state=None,\n",
              "                       verbose=0, warm_start=False)"
            ]
          },
          "metadata": {
            "tags": []
          },
          "execution_count": 98
        }
      ]
    },
    {
      "cell_type": "code",
      "metadata": {
        "colab": {
          "base_uri": "https://localhost:8080/"
        },
        "id": "ncoy6ME7OLn2",
        "outputId": "032d039c-5062-4861-8000-adb183d476b9"
      },
      "source": [
        "for name, score in zip(feature_importance_columns, rand_for_smote.feature_importances_):\n",
        "    print(name, \" \", score)"
      ],
      "execution_count": null,
      "outputs": [
        {
          "output_type": "stream",
          "text": [
            "Partner   0.015369213985440245\n",
            "PaperlessBilling   0.028455532910281914\n",
            "Dependents   0.02158927482989477\n",
            "Extra packages   0.06704989198308042\n",
            "MonthlyCharges   0.2120874503365481\n",
            "tenure   0.22526840075361043\n",
            "Bank transfer (automatic)   0.013469920693654842\n",
            "Electronic check   0.0536874546971877\n",
            "Mailed check   0.014970057637502794\n",
            "Month-to-month   0.22332744412880337\n",
            "Two year   0.12472535804399537\n"
          ],
          "name": "stdout"
        }
      ]
    },
    {
      "cell_type": "code",
      "metadata": {
        "id": "Ad6y_8ZnS6S4"
      },
      "source": [
        "contract_importance = rand_for_smote.feature_importances_[10] + rand_for_smote.feature_importances_[9]\n",
        "payment_method_importannce = rand_for_smote.feature_importances_[6] + rand_for_smote.feature_importances_[7] + rand_for_smote.feature_importances_[8]\n",
        "rest_feature_importance = rand_for_smote.feature_importances_[0:6]\n",
        "combined_feature_importance = np.append(rest_feature_importance,[payment_method_importannce,contract_importance])"
      ],
      "execution_count": null,
      "outputs": []
    },
    {
      "cell_type": "code",
      "metadata": {
        "colab": {
          "base_uri": "https://localhost:8080/"
        },
        "id": "o9k7Evbo0Oqy",
        "outputId": "6efbe9dc-16da-4cdd-d47d-9358f0d64c64"
      },
      "source": [
        "combined_feature_importance"
      ],
      "execution_count": null,
      "outputs": [
        {
          "output_type": "execute_result",
          "data": {
            "text/plain": [
              "array([0.01536921, 0.02845553, 0.02158927, 0.06704989, 0.21208745,\n",
              "       0.2252684 , 0.08212743, 0.3480528 ])"
            ]
          },
          "metadata": {
            "tags": []
          },
          "execution_count": 101
        }
      ]
    },
    {
      "cell_type": "code",
      "metadata": {
        "colab": {
          "base_uri": "https://localhost:8080/",
          "height": 478
        },
        "id": "Q7Ql5qsbSgFE",
        "outputId": "8a058fd2-ad9c-4c92-aee1-f4ed0e95a6c0"
      },
      "source": [
        "# Creates a bar plot showing the importance of each feature within the final model \n",
        "final_features = ['Has Partner \\n (Y/N)','Paperless Billing \\n(Y/N)', 'Has Dependents \\n (Y/N)', 'Total \\nExtra Packages',\n",
        "       ' Monthly \\nCharges', ' Time With \\nCompany',' Payment \\nMethod',' Contract \\nType']\n",
        "importance = combined_feature_importance\n",
        "fig, axs = plt.subplots(nrows = 1, ncols=1, figsize = (15,7))\n",
        "sns.barplot(x = final_features, y = importance,palette=sns.color_palette(\"husl\",8))\n",
        "# axs.set_xlabel(\"Features\" ,fontsize= 16)\n",
        "axs.set_ylabel(\"Feature Importance\",fontsize = 16)\n",
        "axs.yaxis.set_major_formatter(mtick.PercentFormatter(xmax = 1))\n",
        "axs.set_title(\"Relative Importance of Customer Attributes\",size = 20) "
      ],
      "execution_count": null,
      "outputs": [
        {
          "output_type": "execute_result",
          "data": {
            "text/plain": [
              "Text(0.5, 1.0, 'Relative Importance of Customer Attributes')"
            ]
          },
          "metadata": {
            "tags": []
          },
          "execution_count": 102
        },
        {
          "output_type": "display_data",
          "data": {
            "image/png": "[encoded data removed]",
            "text/plain": [
              "<Figure size 1080x504 with 1 Axes>"
            ]
          },
          "metadata": {
            "tags": [],
            "needs_background": "light"
          }
        }
      ]
    },
    {
      "cell_type": "markdown",
      "metadata": {
        "id": "OLf44TNBmGHN"
      },
      "source": [
        "# Additional model information/Metrics"
      ]
    },
    {
      "cell_type": "markdown",
      "metadata": {
        "id": "TJ6SwyQimM5f"
      },
      "source": [
        "## Initial Random Forest"
      ]
    },
    {
      "cell_type": "markdown",
      "metadata": {
        "id": "JIgsHMH-R8jQ"
      },
      "source": [
        "### Confusion Matrices and classification reports\n",
        "                                   Predicted\n",
        "                          Negative          Positive\n",
        "               Negative   True Negative     False Positive\n",
        "      Actual\n",
        "               Positive   False Negative    True Positive\n",
        "\n",
        "* Accuracy: Proportion of correctly classed instances - TN + TP / total instances\n",
        "* Precision: Proportion of correctly classed positive instances across all predicted positives - TP / TP + FP \n",
        "* Recall: Proportion of correctly classed positive instances in comparison to all true positives - TP / TP + FN <- good to use as appropriate when high cost associated with false negative\n",
        "* F1: weighted average of Precision and Recall - 2 * (Precision * Recall) / (Precision + Recall) \n",
        "\n"
      ]
    },
    {
      "cell_type": "code",
      "metadata": {
        "colab": {
          "base_uri": "https://localhost:8080/"
        },
        "id": "JslUAOfegLLk",
        "outputId": "467bdeff-1970-4e10-f1a0-ab9b94dec975"
      },
      "source": [
        "# Fit baseline Random forest model\n",
        "rand_for = RandomForestClassifier(max_depth=5,min_samples_split=7,n_estimators=300,class_weight={0:1, 1:1})\n",
        "rand_for.fit(train_x, train_y)\n",
        "rand_for_predictions = rand_for.predict(test_x)\n",
        "print(classification_report(test_y, rand_for_predictions))\n",
        "print(confusion_matrix(test_y, rand_for_predictions)) # Baseline confusion matrix"
      ],
      "execution_count": null,
      "outputs": [
        {
          "output_type": "stream",
          "text": [
            "              precision    recall  f1-score   support\n",
            "\n",
            "           0       0.80      0.94      0.87      1098\n",
            "           1       0.69      0.37      0.48       396\n",
            "\n",
            "    accuracy                           0.79      1494\n",
            "   macro avg       0.75      0.65      0.67      1494\n",
            "weighted avg       0.77      0.79      0.76      1494\n",
            "\n",
            "[[1031   67]\n",
            " [ 250  146]]\n"
          ],
          "name": "stdout"
        }
      ]
    },
    {
      "cell_type": "code",
      "metadata": {
        "colab": {
          "base_uri": "https://localhost:8080/"
        },
        "id": "FWaMXpG8OlVA",
        "outputId": "27699c46-84d0-4ded-b7e3-1bf0384f4fb9"
      },
      "source": [
        "print(classification_report(test_y, rand_for_predictions))\n",
        "print(confusion_matrix(test_y, rand_for_predictions)) # Setting class weights to {0:1, 1:3}"
      ],
      "execution_count": null,
      "outputs": [
        {
          "output_type": "stream",
          "text": [
            "              precision    recall  f1-score   support\n",
            "\n",
            "           0       0.92      0.64      0.76      1098\n",
            "           1       0.46      0.86      0.60       396\n",
            "\n",
            "    accuracy                           0.70      1494\n",
            "   macro avg       0.69      0.75      0.68      1494\n",
            "weighted avg       0.80      0.70      0.71      1494\n",
            "\n",
            "[[702 396]\n",
            " [ 57 339]]\n"
          ],
          "name": "stdout"
        }
      ]
    },
    {
      "cell_type": "code",
      "metadata": {
        "colab": {
          "base_uri": "https://localhost:8080/"
        },
        "id": "xaoyhauPXH20",
        "outputId": "ffe5d905-e0d6-4f46-bf16-2a9a1068e80c"
      },
      "source": [
        "print(classification_report(test_y, rand_for_predictions))\n",
        "print(confusion_matrix(test_y, rand_for_predictions)) # Setting class weights to {0:1, 1:5}"
      ],
      "execution_count": null,
      "outputs": [
        {
          "output_type": "stream",
          "text": [
            "              precision    recall  f1-score   support\n",
            "\n",
            "           0       0.94      0.54      0.68      1098\n",
            "           1       0.41      0.91      0.57       396\n",
            "\n",
            "    accuracy                           0.63      1494\n",
            "   macro avg       0.68      0.72      0.63      1494\n",
            "weighted avg       0.80      0.63      0.65      1494\n",
            "\n",
            "[[588 510]\n",
            " [ 36 360]]\n"
          ],
          "name": "stdout"
        }
      ]
    },
    {
      "cell_type": "code",
      "metadata": {
        "colab": {
          "base_uri": "https://localhost:8080/"
        },
        "id": "Gtc9oFH1vrjA",
        "outputId": "5055102b-9e1c-4023-b67a-08e45c0087ea"
      },
      "source": [
        "print(classification_report(test_y, rand_for_predictions))\n",
        "print(confusion_matrix(test_y, rand_for_predictions)) # Setting class weights to {0:1, 1:10}"
      ],
      "execution_count": null,
      "outputs": [
        {
          "output_type": "stream",
          "text": [
            "              precision    recall  f1-score   support\n",
            "\n",
            "           0       0.96      0.45      0.62      1098\n",
            "           1       0.38      0.94      0.55       396\n",
            "\n",
            "    accuracy                           0.58      1494\n",
            "   macro avg       0.67      0.70      0.58      1494\n",
            "weighted avg       0.81      0.58      0.60      1494\n",
            "\n",
            "[[498 600]\n",
            " [ 22 374]]\n"
          ],
          "name": "stdout"
        }
      ]
    },
    {
      "cell_type": "markdown",
      "metadata": {
        "id": "Ey4XsUlEmVT-"
      },
      "source": [
        "### ROC score and Curve "
      ]
    },
    {
      "cell_type": "code",
      "metadata": {
        "id": "OnX0NuG3AyAn",
        "colab": {
          "base_uri": "https://localhost:8080/"
        },
        "outputId": "fd392677-8c47-400b-d020-94f30ddb4927"
      },
      "source": [
        "y_probas_for= cross_val_predict(rand_for, train_x, train_y, cv = 3, method=\"predict_proba\") # Done for class weights = {0:1, 1:3}\n",
        "y_scores_for = y_probas_for[:, 1]\n",
        "fpr_for,tpr_for,thresholds_for = roc_curve(train_y,y_scores_for)\n",
        "roc_auc_score(train_y,y_scores_for)"
      ],
      "execution_count": null,
      "outputs": [
        {
          "output_type": "execute_result",
          "data": {
            "text/plain": [
              "0.8334375536568831"
            ]
          },
          "metadata": {
            "tags": []
          },
          "execution_count": 183
        }
      ]
    },
    {
      "cell_type": "code",
      "metadata": {
        "colab": {
          "base_uri": "https://localhost:8080/",
          "height": 279
        },
        "id": "WvQA8t24AmQ3",
        "outputId": "268be469-00b5-4f23-abdb-a3e5cdd02075"
      },
      "source": [
        "plt.plot(fpr_for,tpr_for,label = \"Random Forest\",linewidth = 2)\n",
        "plt.plot([0,1],[0,1],'k--')\n",
        "plt.xlabel(\"False positive rate\")\n",
        "plt.ylabel(\"True positive Rate (Recall)\")\n",
        "plt.grid() # Can see it performs okay. Could be better. "
      ],
      "execution_count": null,
      "outputs": [
        {
          "output_type": "display_data",
          "data": {
            "image/png": "[encoded data removed]",
            "text/plain": [
              "<Figure size 432x288 with 1 Axes>"
            ]
          },
          "metadata": {
            "tags": [],
            "needs_background": "light"
          }
        }
      ]
    },
    {
      "cell_type": "markdown",
      "metadata": {
        "id": "J8rEkQJinP1r"
      },
      "source": [
        "## Final model "
      ]
    },
    {
      "cell_type": "markdown",
      "metadata": {
        "id": "gD_vzP_ksgrl"
      },
      "source": [
        "### Confusion Matrices and Classification Reports"
      ]
    },
    {
      "cell_type": "code",
      "metadata": {
        "colab": {
          "base_uri": "https://localhost:8080/"
        },
        "id": "iOJKx1SFh2uH",
        "outputId": "14b2ddc9-e41b-4362-973e-c12146a6271f"
      },
      "source": [
        "rand_for_smote = RandomForestClassifier(max_depth=10,min_samples_split=5,n_estimators=300)\n",
        "rand_for_smote.fit(x_train_res,y_train_res)\n",
        "rand_for_predictions_smote = rand_for_smote.predict(x_test_res)\n",
        "print(classification_report(y_test_res, rand_for_predictions_smote))\n",
        "print(confusion_matrix(y_test_res, rand_for_predictions_smote))"
      ],
      "execution_count": null,
      "outputs": [
        {
          "output_type": "stream",
          "text": [
            "              precision    recall  f1-score   support\n",
            "\n",
            "           0       0.83      0.78      0.81      1103\n",
            "           1       0.72      0.78      0.75       788\n",
            "\n",
            "    accuracy                           0.78      1891\n",
            "   macro avg       0.78      0.78      0.78      1891\n",
            "weighted avg       0.79      0.78      0.78      1891\n",
            "\n",
            "[[865 238]\n",
            " [174 614]]\n"
          ],
          "name": "stdout"
        }
      ]
    },
    {
      "cell_type": "code",
      "metadata": {
        "colab": {
          "base_uri": "https://localhost:8080/"
        },
        "id": "TP1jlLpBCBbB",
        "outputId": "30d7b3ea-eb0c-4104-a068-2cd499d4cb00"
      },
      "source": [
        "rand_for_smote = RandomForestClassifier(max_depth=10,min_samples_split=5,n_estimators=100,class_weight={0:1, 1:2})\n",
        "rand_for_smote.fit(x_train_res,y_train_res)\n",
        "rand_for_predictions_smote = rand_for_smote.predict(x_test_res)\n",
        "print(classification_report(y_test_res, rand_for_predictions_smote))\n",
        "print(confusion_matrix(y_test_res, rand_for_predictions_smote))"
      ],
      "execution_count": null,
      "outputs": [
        {
          "output_type": "stream",
          "text": [
            "              precision    recall  f1-score   support\n",
            "\n",
            "           0       0.89      0.70      0.79      1103\n",
            "           1       0.68      0.88      0.77       788\n",
            "\n",
            "    accuracy                           0.78      1891\n",
            "   macro avg       0.78      0.79      0.78      1891\n",
            "weighted avg       0.80      0.78      0.78      1891\n",
            "\n",
            "[[775 328]\n",
            " [ 95 693]]\n"
          ],
          "name": "stdout"
        }
      ]
    },
    {
      "cell_type": "markdown",
      "metadata": {
        "id": "og724zjTsncz"
      },
      "source": [
        "### ROC score and Curve"
      ]
    },
    {
      "cell_type": "code",
      "metadata": {
        "colab": {
          "base_uri": "https://localhost:8080/"
        },
        "id": "Dd3ExWias1ya",
        "outputId": "70b456f7-4541-4647-a0ff-ec0de36459eb"
      },
      "source": [
        "rand_for_smote = RandomForestClassifier(max_depth=10,min_samples_split=5,n_estimators=100,class_weight={0:1, 1:2})\n",
        "rand_for_smote.fit(x_train_res,y_train_res)"
      ],
      "execution_count": null,
      "outputs": [
        {
          "output_type": "execute_result",
          "data": {
            "text/plain": [
              "RandomForestClassifier(bootstrap=True, ccp_alpha=0.0, class_weight={0: 1, 1: 2},\n",
              "                       criterion='gini', max_depth=10, max_features='auto',\n",
              "                       max_leaf_nodes=None, max_samples=None,\n",
              "                       min_impurity_decrease=0.0, min_impurity_split=None,\n",
              "                       min_samples_leaf=1, min_samples_split=5,\n",
              "                       min_weight_fraction_leaf=0.0, n_estimators=100,\n",
              "                       n_jobs=None, oob_score=False, random_state=None,\n",
              "                       verbose=0, warm_start=False)"
            ]
          },
          "metadata": {
            "tags": []
          },
          "execution_count": 87
        }
      ]
    },
    {
      "cell_type": "code",
      "metadata": {
        "colab": {
          "base_uri": "https://localhost:8080/"
        },
        "id": "QH1jsE9KsoIA",
        "outputId": "e4ac707a-687d-49da-8bf6-b7f7b794ec16"
      },
      "source": [
        "y_probas_for= cross_val_predict(rand_for_smote, x_train_res,y_train_res, cv = 3, method=\"predict_proba\") # Done for class weights = {0:1, 1:2}\n",
        "y_scores_for = y_probas_for[:, 1]\n",
        "fpr_for,tpr_for,thresholds_for = roc_curve(y_train_res,y_scores_for)\n",
        "roc_auc_score(y_train_res,y_scores_for)"
      ],
      "execution_count": null,
      "outputs": [
        {
          "output_type": "execute_result",
          "data": {
            "text/plain": [
              "0.8702516429017105"
            ]
          },
          "metadata": {
            "tags": []
          },
          "execution_count": 88
        }
      ]
    },
    {
      "cell_type": "code",
      "metadata": {
        "colab": {
          "base_uri": "https://localhost:8080/",
          "height": 279
        },
        "id": "iNOIu1DJsoIA",
        "outputId": "b31730b8-0826-4d0f-e982-232e93cc65d2"
      },
      "source": [
        "plt.plot(fpr_for,tpr_for,label = \"Random Forest\",linewidth = 2)\n",
        "plt.plot([0,1],[0,1],'k--')\n",
        "plt.xlabel(\"False positive rate\")\n",
        "plt.ylabel(\"True positive Rate (Recall)\")\n",
        "plt.grid() # Can see this is an overall improvement on the best model which did not oversample.  (0.87, was 0.83 previously) "
      ],
      "execution_count": null,
      "outputs": [
        {
          "output_type": "display_data",
          "data": {
            "image/png": "[encoded data removed]",
            "text/plain": [
              "<Figure size 432x288 with 1 Axes>"
            ]
          },
          "metadata": {
            "tags": [],
            "needs_background": "light"
          }
        }
      ]
    },
    {
      "cell_type": "code",
      "metadata": {
        "id": "_WulHtIBtAna"
      },
      "source": [
        ""
      ],
      "execution_count": null,
      "outputs": []
    }
  ]
}